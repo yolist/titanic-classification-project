{
 "cells": [
  {
   "cell_type": "markdown",
   "id": "7ecefbdc-3c15-4905-880e-ba18d5c572be",
   "metadata": {},
   "source": [
    "# EDA- PRÁCTICA FINAL"
   ]
  },
  {
   "cell_type": "markdown",
   "id": "8aa7c39d-1144-4716-9f1e-b63b183ccab3",
   "metadata": {},
   "source": [
    "La pregunta de negocio que buscamos responder es:\n",
    "\n",
    "__¿Qué factores están relacionados con que los pasajeros tengan una mayor/menor probabilidad de sobrevivir?__"
   ]
  },
  {
   "cell_type": "markdown",
   "id": "e2ed69d2-6ae7-43ec-8c90-6852cd7a7994",
   "metadata": {},
   "source": [
    "### 1) Importamos las librerías que vamos a utilizar:"
   ]
  },
  {
   "cell_type": "code",
   "execution_count": 349,
   "id": "f866ab02-1c85-4b5b-8875-f7d251c259ba",
   "metadata": {},
   "outputs": [],
   "source": [
    "import pandas as pd\n",
    "import numpy as np\n",
    "import seaborn as sns\n",
    "import matplotlib.pyplot as plt"
   ]
  },
  {
   "cell_type": "code",
   "execution_count": 350,
   "id": "69d2eb37-60e2-4749-82cf-2b263d8da94f",
   "metadata": {},
   "outputs": [],
   "source": [
    "# al hacer los gráficos en Seaborn me aparecen unas advertencias a causa de la versión, así que pongo un filtro para suprimirlas\n",
    "import warnings\n",
    "warnings.filterwarnings(\"ignore\", category=FutureWarning)"
   ]
  },
  {
   "cell_type": "markdown",
   "id": "2b0386bd-f347-40ba-8e74-3eb7919189cb",
   "metadata": {},
   "source": [
    "### 2) y 3) Tener una idea general de nuestro dataset y definir los tipos de datos que tenemos:"
   ]
  },
  {
   "cell_type": "markdown",
   "id": "cc8f9381-28a8-49fe-9d66-894d89a4d106",
   "metadata": {},
   "source": [
    "Cargamos los datos:"
   ]
  },
  {
   "cell_type": "code",
   "execution_count": 351,
   "id": "e3fbacb0-aa89-4d78-a65b-6c4e84a8be5c",
   "metadata": {},
   "outputs": [],
   "source": [
    "db = pd.read_csv(\"titanic.csv\")"
   ]
  },
  {
   "cell_type": "markdown",
   "id": "fe5869dc-ac9e-4f85-8bbe-47051268a8a2",
   "metadata": {},
   "source": [
    "Analizamos los datos que tenemos a nivel general:"
   ]
  },
  {
   "cell_type": "code",
   "execution_count": 352,
   "id": "5d72cb5c-996e-49e3-8897-979f2ff5fe79",
   "metadata": {},
   "outputs": [
    {
     "data": {
      "text/plain": [
       "(891, 12)"
      ]
     },
     "execution_count": 352,
     "metadata": {},
     "output_type": "execute_result"
    }
   ],
   "source": [
    "db.shape"
   ]
  },
  {
   "cell_type": "markdown",
   "id": "f513f88d-1edb-4371-97f5-123036ece556",
   "metadata": {},
   "source": [
    "nuestro dataset tiene 891 filas y 12 columnas"
   ]
  },
  {
   "cell_type": "markdown",
   "id": "b3775b8b-c715-4c6d-a206-34a36a14708e",
   "metadata": {},
   "source": [
    "Visualizamos los datos de nuestro dataset, sólo las 10 primeras columnas para conocer con qué valores vamos a trabajar:"
   ]
  },
  {
   "cell_type": "code",
   "execution_count": 353,
   "id": "8f5991e1-91d2-4cb4-b3ed-a6a31612ce4e",
   "metadata": {},
   "outputs": [
    {
     "data": {
      "text/html": [
       "<div>\n",
       "<style scoped>\n",
       "    .dataframe tbody tr th:only-of-type {\n",
       "        vertical-align: middle;\n",
       "    }\n",
       "\n",
       "    .dataframe tbody tr th {\n",
       "        vertical-align: top;\n",
       "    }\n",
       "\n",
       "    .dataframe thead th {\n",
       "        text-align: right;\n",
       "    }\n",
       "</style>\n",
       "<table border=\"1\" class=\"dataframe\">\n",
       "  <thead>\n",
       "    <tr style=\"text-align: right;\">\n",
       "      <th></th>\n",
       "      <th>PassengerId</th>\n",
       "      <th>Survived</th>\n",
       "      <th>Pclass</th>\n",
       "      <th>Name</th>\n",
       "      <th>Sex</th>\n",
       "      <th>Age</th>\n",
       "      <th>SibSp</th>\n",
       "      <th>Parch</th>\n",
       "      <th>Ticket</th>\n",
       "      <th>Fare</th>\n",
       "      <th>Cabin</th>\n",
       "      <th>Embarked</th>\n",
       "    </tr>\n",
       "  </thead>\n",
       "  <tbody>\n",
       "    <tr>\n",
       "      <th>0</th>\n",
       "      <td>1</td>\n",
       "      <td>0</td>\n",
       "      <td>3</td>\n",
       "      <td>Braund, Mr. Owen Harris</td>\n",
       "      <td>male</td>\n",
       "      <td>22.0</td>\n",
       "      <td>1</td>\n",
       "      <td>0</td>\n",
       "      <td>A/5 21171</td>\n",
       "      <td>7.2500</td>\n",
       "      <td>NaN</td>\n",
       "      <td>S</td>\n",
       "    </tr>\n",
       "    <tr>\n",
       "      <th>1</th>\n",
       "      <td>2</td>\n",
       "      <td>1</td>\n",
       "      <td>1</td>\n",
       "      <td>Cumings, Mrs. John Bradley (Florence Briggs Th...</td>\n",
       "      <td>female</td>\n",
       "      <td>38.0</td>\n",
       "      <td>1</td>\n",
       "      <td>0</td>\n",
       "      <td>PC 17599</td>\n",
       "      <td>71.2833</td>\n",
       "      <td>C85</td>\n",
       "      <td>C</td>\n",
       "    </tr>\n",
       "    <tr>\n",
       "      <th>2</th>\n",
       "      <td>3</td>\n",
       "      <td>1</td>\n",
       "      <td>3</td>\n",
       "      <td>Heikkinen, Miss. Laina</td>\n",
       "      <td>female</td>\n",
       "      <td>26.0</td>\n",
       "      <td>0</td>\n",
       "      <td>0</td>\n",
       "      <td>STON/O2. 3101282</td>\n",
       "      <td>7.9250</td>\n",
       "      <td>NaN</td>\n",
       "      <td>S</td>\n",
       "    </tr>\n",
       "    <tr>\n",
       "      <th>3</th>\n",
       "      <td>4</td>\n",
       "      <td>1</td>\n",
       "      <td>1</td>\n",
       "      <td>Futrelle, Mrs. Jacques Heath (Lily May Peel)</td>\n",
       "      <td>female</td>\n",
       "      <td>35.0</td>\n",
       "      <td>1</td>\n",
       "      <td>0</td>\n",
       "      <td>113803</td>\n",
       "      <td>53.1000</td>\n",
       "      <td>C123</td>\n",
       "      <td>S</td>\n",
       "    </tr>\n",
       "    <tr>\n",
       "      <th>4</th>\n",
       "      <td>5</td>\n",
       "      <td>0</td>\n",
       "      <td>3</td>\n",
       "      <td>Allen, Mr. William Henry</td>\n",
       "      <td>male</td>\n",
       "      <td>35.0</td>\n",
       "      <td>0</td>\n",
       "      <td>0</td>\n",
       "      <td>373450</td>\n",
       "      <td>8.0500</td>\n",
       "      <td>NaN</td>\n",
       "      <td>S</td>\n",
       "    </tr>\n",
       "    <tr>\n",
       "      <th>5</th>\n",
       "      <td>6</td>\n",
       "      <td>0</td>\n",
       "      <td>3</td>\n",
       "      <td>Moran, Mr. James</td>\n",
       "      <td>male</td>\n",
       "      <td>NaN</td>\n",
       "      <td>0</td>\n",
       "      <td>0</td>\n",
       "      <td>330877</td>\n",
       "      <td>8.4583</td>\n",
       "      <td>NaN</td>\n",
       "      <td>Q</td>\n",
       "    </tr>\n",
       "    <tr>\n",
       "      <th>6</th>\n",
       "      <td>7</td>\n",
       "      <td>0</td>\n",
       "      <td>1</td>\n",
       "      <td>McCarthy, Mr. Timothy J</td>\n",
       "      <td>male</td>\n",
       "      <td>54.0</td>\n",
       "      <td>0</td>\n",
       "      <td>0</td>\n",
       "      <td>17463</td>\n",
       "      <td>51.8625</td>\n",
       "      <td>E46</td>\n",
       "      <td>S</td>\n",
       "    </tr>\n",
       "    <tr>\n",
       "      <th>7</th>\n",
       "      <td>8</td>\n",
       "      <td>0</td>\n",
       "      <td>3</td>\n",
       "      <td>Palsson, Master. Gosta Leonard</td>\n",
       "      <td>male</td>\n",
       "      <td>2.0</td>\n",
       "      <td>3</td>\n",
       "      <td>1</td>\n",
       "      <td>349909</td>\n",
       "      <td>21.0750</td>\n",
       "      <td>NaN</td>\n",
       "      <td>S</td>\n",
       "    </tr>\n",
       "    <tr>\n",
       "      <th>8</th>\n",
       "      <td>9</td>\n",
       "      <td>1</td>\n",
       "      <td>3</td>\n",
       "      <td>Johnson, Mrs. Oscar W (Elisabeth Vilhelmina Berg)</td>\n",
       "      <td>female</td>\n",
       "      <td>27.0</td>\n",
       "      <td>0</td>\n",
       "      <td>2</td>\n",
       "      <td>347742</td>\n",
       "      <td>11.1333</td>\n",
       "      <td>NaN</td>\n",
       "      <td>S</td>\n",
       "    </tr>\n",
       "    <tr>\n",
       "      <th>9</th>\n",
       "      <td>10</td>\n",
       "      <td>1</td>\n",
       "      <td>2</td>\n",
       "      <td>Nasser, Mrs. Nicholas (Adele Achem)</td>\n",
       "      <td>female</td>\n",
       "      <td>14.0</td>\n",
       "      <td>1</td>\n",
       "      <td>0</td>\n",
       "      <td>237736</td>\n",
       "      <td>30.0708</td>\n",
       "      <td>NaN</td>\n",
       "      <td>C</td>\n",
       "    </tr>\n",
       "  </tbody>\n",
       "</table>\n",
       "</div>"
      ],
      "text/plain": [
       "   PassengerId  Survived  Pclass  \\\n",
       "0            1         0       3   \n",
       "1            2         1       1   \n",
       "2            3         1       3   \n",
       "3            4         1       1   \n",
       "4            5         0       3   \n",
       "5            6         0       3   \n",
       "6            7         0       1   \n",
       "7            8         0       3   \n",
       "8            9         1       3   \n",
       "9           10         1       2   \n",
       "\n",
       "                                                Name     Sex   Age  SibSp  \\\n",
       "0                            Braund, Mr. Owen Harris    male  22.0      1   \n",
       "1  Cumings, Mrs. John Bradley (Florence Briggs Th...  female  38.0      1   \n",
       "2                             Heikkinen, Miss. Laina  female  26.0      0   \n",
       "3       Futrelle, Mrs. Jacques Heath (Lily May Peel)  female  35.0      1   \n",
       "4                           Allen, Mr. William Henry    male  35.0      0   \n",
       "5                                   Moran, Mr. James    male   NaN      0   \n",
       "6                            McCarthy, Mr. Timothy J    male  54.0      0   \n",
       "7                     Palsson, Master. Gosta Leonard    male   2.0      3   \n",
       "8  Johnson, Mrs. Oscar W (Elisabeth Vilhelmina Berg)  female  27.0      0   \n",
       "9                Nasser, Mrs. Nicholas (Adele Achem)  female  14.0      1   \n",
       "\n",
       "   Parch            Ticket     Fare Cabin Embarked  \n",
       "0      0         A/5 21171   7.2500   NaN        S  \n",
       "1      0          PC 17599  71.2833   C85        C  \n",
       "2      0  STON/O2. 3101282   7.9250   NaN        S  \n",
       "3      0            113803  53.1000  C123        S  \n",
       "4      0            373450   8.0500   NaN        S  \n",
       "5      0            330877   8.4583   NaN        Q  \n",
       "6      0             17463  51.8625   E46        S  \n",
       "7      1            349909  21.0750   NaN        S  \n",
       "8      2            347742  11.1333   NaN        S  \n",
       "9      0            237736  30.0708   NaN        C  "
      ]
     },
     "execution_count": 353,
     "metadata": {},
     "output_type": "execute_result"
    }
   ],
   "source": [
    "db.head(10)"
   ]
  },
  {
   "cell_type": "markdown",
   "id": "3fce4932-6523-47a7-b6e4-39e9dfd16d6a",
   "metadata": {},
   "source": [
    "con estos datos mostrados podemos apreciar que tenemos variables numéricas y categóricas, entre las cuales están:\n",
    "* Passengerid, es el número de identificación del pasajero\n",
    "* Survived, si sobrevivió =1 o no sobrevivió =0\n",
    "* Pclass, la clase en la que viajaba el pasajero\n",
    "* Name, el nombre del pasajero\n",
    "* Sex, género del pasajero\n",
    "* Age, edad en años del pasajero\n",
    "* Sibsp, con cuántos hermanos o cónyuge a bordo viabaja el pasajero\n",
    "* Parch, con cuántos padres o hijos a bordo viajaba el pasajero\n",
    "* Ticket, el número de billete\n",
    "* Fare, la tarifa del billete\n",
    "* Cabin, el número de cabina en la que viajaba el pasajero\n",
    "* Embarked, puerto de embarque (S= Southhampton, C= Cherbourg y Q= Queenstone)\n"
   ]
  },
  {
   "cell_type": "markdown",
   "id": "9564d054-1e9e-4211-98b4-54324e25ac3a",
   "metadata": {},
   "source": [
    "Ahora veremos la información que nos brinda nuestro dataset, de qué tipo es y qué cantidad de no nulos tiene:"
   ]
  },
  {
   "cell_type": "code",
   "execution_count": 354,
   "id": "a8c4261b-b4e8-446c-8437-0887cccca659",
   "metadata": {},
   "outputs": [
    {
     "name": "stdout",
     "output_type": "stream",
     "text": [
      "<class 'pandas.core.frame.DataFrame'>\n",
      "RangeIndex: 891 entries, 0 to 890\n",
      "Data columns (total 12 columns):\n",
      " #   Column       Non-Null Count  Dtype  \n",
      "---  ------       --------------  -----  \n",
      " 0   PassengerId  891 non-null    int64  \n",
      " 1   Survived     891 non-null    int64  \n",
      " 2   Pclass       891 non-null    int64  \n",
      " 3   Name         891 non-null    object \n",
      " 4   Sex          891 non-null    object \n",
      " 5   Age          714 non-null    float64\n",
      " 6   SibSp        891 non-null    int64  \n",
      " 7   Parch        891 non-null    int64  \n",
      " 8   Ticket       891 non-null    object \n",
      " 9   Fare         891 non-null    float64\n",
      " 10  Cabin        204 non-null    object \n",
      " 11  Embarked     889 non-null    object \n",
      "dtypes: float64(2), int64(5), object(5)\n",
      "memory usage: 83.7+ KB\n"
     ]
    }
   ],
   "source": [
    "db.info()"
   ]
  },
  {
   "cell_type": "markdown",
   "id": "a363c66c-a449-487b-9b94-ece0149016ee",
   "metadata": {},
   "source": [
    "aquí podemos visualizar que tanto las variables: \"Age\", \"Cabin\" y \"Embarked\" tienen valores nulos."
   ]
  },
  {
   "cell_type": "markdown",
   "id": "a3389e46-c5e7-42f4-bd3c-6541b87f7668",
   "metadata": {},
   "source": [
    "Ahora vamos a nombrar todas las columnas que tenemos:"
   ]
  },
  {
   "cell_type": "code",
   "execution_count": 355,
   "id": "1f9162bb-c11a-445a-ba45-c33e47fcbcc0",
   "metadata": {},
   "outputs": [
    {
     "data": {
      "text/plain": [
       "Index(['PassengerId', 'Survived', 'Pclass', 'Name', 'Sex', 'Age', 'SibSp',\n",
       "       'Parch', 'Ticket', 'Fare', 'Cabin', 'Embarked'],\n",
       "      dtype='object')"
      ]
     },
     "execution_count": 355,
     "metadata": {},
     "output_type": "execute_result"
    }
   ],
   "source": [
    "db.columns"
   ]
  },
  {
   "cell_type": "code",
   "execution_count": null,
   "id": "866d89d4-a126-4f1d-92f4-63b01efeadfb",
   "metadata": {},
   "outputs": [],
   "source": []
  },
  {
   "cell_type": "markdown",
   "id": "c4bec238-19d3-4790-916f-4a96c5ac6e3f",
   "metadata": {},
   "source": [
    "### 4) Preparación de datos"
   ]
  },
  {
   "cell_type": "markdown",
   "id": "fa678719-d6ac-42a4-a7be-7e1239ca2894",
   "metadata": {},
   "source": [
    "Realizamos un pre-procesamiento y limpieza básicos de los datos para poder continuar con nuestro análisis:"
   ]
  },
  {
   "cell_type": "markdown",
   "id": "468d1654-868f-4324-abc7-4fa4d0c0f8d4",
   "metadata": {},
   "source": [
    "* Fijamos el índice para poder ordenar mejor los datos de la tabla"
   ]
  },
  {
   "cell_type": "code",
   "execution_count": 356,
   "id": "6646013b-77f2-4978-a37d-9f08cbb6002f",
   "metadata": {},
   "outputs": [],
   "source": [
    "db.set_index(\"PassengerId\", inplace= True)"
   ]
  },
  {
   "cell_type": "code",
   "execution_count": 357,
   "id": "d89e1792-412b-49ca-aa69-4c2343398eec",
   "metadata": {},
   "outputs": [
    {
     "data": {
      "text/html": [
       "<div>\n",
       "<style scoped>\n",
       "    .dataframe tbody tr th:only-of-type {\n",
       "        vertical-align: middle;\n",
       "    }\n",
       "\n",
       "    .dataframe tbody tr th {\n",
       "        vertical-align: top;\n",
       "    }\n",
       "\n",
       "    .dataframe thead th {\n",
       "        text-align: right;\n",
       "    }\n",
       "</style>\n",
       "<table border=\"1\" class=\"dataframe\">\n",
       "  <thead>\n",
       "    <tr style=\"text-align: right;\">\n",
       "      <th></th>\n",
       "      <th>Survived</th>\n",
       "      <th>Pclass</th>\n",
       "      <th>Name</th>\n",
       "      <th>Sex</th>\n",
       "      <th>Age</th>\n",
       "      <th>SibSp</th>\n",
       "      <th>Parch</th>\n",
       "      <th>Ticket</th>\n",
       "      <th>Fare</th>\n",
       "      <th>Cabin</th>\n",
       "      <th>Embarked</th>\n",
       "    </tr>\n",
       "    <tr>\n",
       "      <th>PassengerId</th>\n",
       "      <th></th>\n",
       "      <th></th>\n",
       "      <th></th>\n",
       "      <th></th>\n",
       "      <th></th>\n",
       "      <th></th>\n",
       "      <th></th>\n",
       "      <th></th>\n",
       "      <th></th>\n",
       "      <th></th>\n",
       "      <th></th>\n",
       "    </tr>\n",
       "  </thead>\n",
       "  <tbody>\n",
       "    <tr>\n",
       "      <th>1</th>\n",
       "      <td>0</td>\n",
       "      <td>3</td>\n",
       "      <td>Braund, Mr. Owen Harris</td>\n",
       "      <td>male</td>\n",
       "      <td>22.0</td>\n",
       "      <td>1</td>\n",
       "      <td>0</td>\n",
       "      <td>A/5 21171</td>\n",
       "      <td>7.2500</td>\n",
       "      <td>NaN</td>\n",
       "      <td>S</td>\n",
       "    </tr>\n",
       "    <tr>\n",
       "      <th>2</th>\n",
       "      <td>1</td>\n",
       "      <td>1</td>\n",
       "      <td>Cumings, Mrs. John Bradley (Florence Briggs Th...</td>\n",
       "      <td>female</td>\n",
       "      <td>38.0</td>\n",
       "      <td>1</td>\n",
       "      <td>0</td>\n",
       "      <td>PC 17599</td>\n",
       "      <td>71.2833</td>\n",
       "      <td>C85</td>\n",
       "      <td>C</td>\n",
       "    </tr>\n",
       "    <tr>\n",
       "      <th>3</th>\n",
       "      <td>1</td>\n",
       "      <td>3</td>\n",
       "      <td>Heikkinen, Miss. Laina</td>\n",
       "      <td>female</td>\n",
       "      <td>26.0</td>\n",
       "      <td>0</td>\n",
       "      <td>0</td>\n",
       "      <td>STON/O2. 3101282</td>\n",
       "      <td>7.9250</td>\n",
       "      <td>NaN</td>\n",
       "      <td>S</td>\n",
       "    </tr>\n",
       "    <tr>\n",
       "      <th>4</th>\n",
       "      <td>1</td>\n",
       "      <td>1</td>\n",
       "      <td>Futrelle, Mrs. Jacques Heath (Lily May Peel)</td>\n",
       "      <td>female</td>\n",
       "      <td>35.0</td>\n",
       "      <td>1</td>\n",
       "      <td>0</td>\n",
       "      <td>113803</td>\n",
       "      <td>53.1000</td>\n",
       "      <td>C123</td>\n",
       "      <td>S</td>\n",
       "    </tr>\n",
       "    <tr>\n",
       "      <th>5</th>\n",
       "      <td>0</td>\n",
       "      <td>3</td>\n",
       "      <td>Allen, Mr. William Henry</td>\n",
       "      <td>male</td>\n",
       "      <td>35.0</td>\n",
       "      <td>0</td>\n",
       "      <td>0</td>\n",
       "      <td>373450</td>\n",
       "      <td>8.0500</td>\n",
       "      <td>NaN</td>\n",
       "      <td>S</td>\n",
       "    </tr>\n",
       "    <tr>\n",
       "      <th>6</th>\n",
       "      <td>0</td>\n",
       "      <td>3</td>\n",
       "      <td>Moran, Mr. James</td>\n",
       "      <td>male</td>\n",
       "      <td>NaN</td>\n",
       "      <td>0</td>\n",
       "      <td>0</td>\n",
       "      <td>330877</td>\n",
       "      <td>8.4583</td>\n",
       "      <td>NaN</td>\n",
       "      <td>Q</td>\n",
       "    </tr>\n",
       "    <tr>\n",
       "      <th>7</th>\n",
       "      <td>0</td>\n",
       "      <td>1</td>\n",
       "      <td>McCarthy, Mr. Timothy J</td>\n",
       "      <td>male</td>\n",
       "      <td>54.0</td>\n",
       "      <td>0</td>\n",
       "      <td>0</td>\n",
       "      <td>17463</td>\n",
       "      <td>51.8625</td>\n",
       "      <td>E46</td>\n",
       "      <td>S</td>\n",
       "    </tr>\n",
       "    <tr>\n",
       "      <th>8</th>\n",
       "      <td>0</td>\n",
       "      <td>3</td>\n",
       "      <td>Palsson, Master. Gosta Leonard</td>\n",
       "      <td>male</td>\n",
       "      <td>2.0</td>\n",
       "      <td>3</td>\n",
       "      <td>1</td>\n",
       "      <td>349909</td>\n",
       "      <td>21.0750</td>\n",
       "      <td>NaN</td>\n",
       "      <td>S</td>\n",
       "    </tr>\n",
       "    <tr>\n",
       "      <th>9</th>\n",
       "      <td>1</td>\n",
       "      <td>3</td>\n",
       "      <td>Johnson, Mrs. Oscar W (Elisabeth Vilhelmina Berg)</td>\n",
       "      <td>female</td>\n",
       "      <td>27.0</td>\n",
       "      <td>0</td>\n",
       "      <td>2</td>\n",
       "      <td>347742</td>\n",
       "      <td>11.1333</td>\n",
       "      <td>NaN</td>\n",
       "      <td>S</td>\n",
       "    </tr>\n",
       "    <tr>\n",
       "      <th>10</th>\n",
       "      <td>1</td>\n",
       "      <td>2</td>\n",
       "      <td>Nasser, Mrs. Nicholas (Adele Achem)</td>\n",
       "      <td>female</td>\n",
       "      <td>14.0</td>\n",
       "      <td>1</td>\n",
       "      <td>0</td>\n",
       "      <td>237736</td>\n",
       "      <td>30.0708</td>\n",
       "      <td>NaN</td>\n",
       "      <td>C</td>\n",
       "    </tr>\n",
       "  </tbody>\n",
       "</table>\n",
       "</div>"
      ],
      "text/plain": [
       "             Survived  Pclass  \\\n",
       "PassengerId                     \n",
       "1                   0       3   \n",
       "2                   1       1   \n",
       "3                   1       3   \n",
       "4                   1       1   \n",
       "5                   0       3   \n",
       "6                   0       3   \n",
       "7                   0       1   \n",
       "8                   0       3   \n",
       "9                   1       3   \n",
       "10                  1       2   \n",
       "\n",
       "                                                          Name     Sex   Age  \\\n",
       "PassengerId                                                                    \n",
       "1                                      Braund, Mr. Owen Harris    male  22.0   \n",
       "2            Cumings, Mrs. John Bradley (Florence Briggs Th...  female  38.0   \n",
       "3                                       Heikkinen, Miss. Laina  female  26.0   \n",
       "4                 Futrelle, Mrs. Jacques Heath (Lily May Peel)  female  35.0   \n",
       "5                                     Allen, Mr. William Henry    male  35.0   \n",
       "6                                             Moran, Mr. James    male   NaN   \n",
       "7                                      McCarthy, Mr. Timothy J    male  54.0   \n",
       "8                               Palsson, Master. Gosta Leonard    male   2.0   \n",
       "9            Johnson, Mrs. Oscar W (Elisabeth Vilhelmina Berg)  female  27.0   \n",
       "10                         Nasser, Mrs. Nicholas (Adele Achem)  female  14.0   \n",
       "\n",
       "             SibSp  Parch            Ticket     Fare Cabin Embarked  \n",
       "PassengerId                                                          \n",
       "1                1      0         A/5 21171   7.2500   NaN        S  \n",
       "2                1      0          PC 17599  71.2833   C85        C  \n",
       "3                0      0  STON/O2. 3101282   7.9250   NaN        S  \n",
       "4                1      0            113803  53.1000  C123        S  \n",
       "5                0      0            373450   8.0500   NaN        S  \n",
       "6                0      0            330877   8.4583   NaN        Q  \n",
       "7                0      0             17463  51.8625   E46        S  \n",
       "8                3      1            349909  21.0750   NaN        S  \n",
       "9                0      2            347742  11.1333   NaN        S  \n",
       "10               1      0            237736  30.0708   NaN        C  "
      ]
     },
     "execution_count": 357,
     "metadata": {},
     "output_type": "execute_result"
    }
   ],
   "source": [
    "db.head(10)"
   ]
  },
  {
   "cell_type": "markdown",
   "id": "ac2bd049-5c68-4f77-9800-8713103ee34b",
   "metadata": {},
   "source": [
    "Para facilidad en el manejo de las variables, convertiremos las mayúsculas a minúsculas con un bucle"
   ]
  },
  {
   "cell_type": "code",
   "execution_count": 358,
   "id": "f9fa396c-f167-4650-9781-b0c2da807b15",
   "metadata": {},
   "outputs": [],
   "source": [
    "db.columns = [col.lower() for col in db]"
   ]
  },
  {
   "cell_type": "code",
   "execution_count": 359,
   "id": "04f1de16-acd6-4255-a11f-8949b49cd02d",
   "metadata": {},
   "outputs": [
    {
     "data": {
      "text/plain": [
       "Index(['survived', 'pclass', 'name', 'sex', 'age', 'sibsp', 'parch', 'ticket',\n",
       "       'fare', 'cabin', 'embarked'],\n",
       "      dtype='object')"
      ]
     },
     "execution_count": 359,
     "metadata": {},
     "output_type": "execute_result"
    }
   ],
   "source": [
    "db.columns"
   ]
  },
  {
   "cell_type": "markdown",
   "id": "f12d1e44-5596-46a4-8158-13751df1a926",
   "metadata": {},
   "source": [
    "* __Manejo de valores nulos:__"
   ]
  },
  {
   "cell_type": "code",
   "execution_count": 360,
   "id": "2af4e67a-9198-4d43-9240-990cdb15961e",
   "metadata": {},
   "outputs": [
    {
     "data": {
      "text/plain": [
       "survived      0\n",
       "pclass        0\n",
       "name          0\n",
       "sex           0\n",
       "age         177\n",
       "sibsp         0\n",
       "parch         0\n",
       "ticket        0\n",
       "fare          0\n",
       "cabin       687\n",
       "embarked      2\n",
       "dtype: int64"
      ]
     },
     "execution_count": 360,
     "metadata": {},
     "output_type": "execute_result"
    }
   ],
   "source": [
    "db.isnull().sum()"
   ]
  },
  {
   "cell_type": "markdown",
   "id": "d4fcb544-f833-43a7-b04b-e2e8937628bc",
   "metadata": {},
   "source": [
    "Al analizar nuestro dataset se puede apreciar que la variable ___\"age\" presenta 177 valores nulos___ , la variable ___\"cabin\" presenta 687 valores nulos___ y la variable ___\"embarked\" presenta 2 valores nulos___; en base a la relevancia que podrían tener estas columnas en la probabilidad de supervivencia, decimos aplicar la imputación de datos para la variable age y la eliminación para la variable cabin, ya que tiene demasiado valores nulos y los datos que nos aporta no tienen una mayor importancia, en cuanto a la variable embarked al tener sólo 2 valores nulos, entonces también los imputaremos por el valor que más se repita."
   ]
  },
  {
   "cell_type": "markdown",
   "id": "3dc9908e-313a-4649-8e73-ca06939698c2",
   "metadata": {},
   "source": [
    "* __Imputación de valores nulos en \"age\":__"
   ]
  },
  {
   "cell_type": "markdown",
   "id": "4d5d0821-3c6e-48b1-a035-262a5f706c4c",
   "metadata": {},
   "source": [
    "a fin de poder decidir si podríamos usar la media o la mediana para imputar los datos faltantes, lo más adecuado sería aplicar las medidas de tendencia central y de variabilidad para visualizar los datos que tenemos en la columna \"age\"."
   ]
  },
  {
   "cell_type": "code",
   "execution_count": 361,
   "id": "dfe4dcba-c2d2-4f91-a276-419872c0bccb",
   "metadata": {},
   "outputs": [
    {
     "data": {
      "text/plain": [
       "count    714.000000\n",
       "mean      29.699118\n",
       "std       14.526497\n",
       "min        0.420000\n",
       "25%       20.125000\n",
       "50%       28.000000\n",
       "75%       38.000000\n",
       "max       80.000000\n",
       "Name: age, dtype: float64"
      ]
     },
     "execution_count": 361,
     "metadata": {},
     "output_type": "execute_result"
    }
   ],
   "source": [
    "db.age.describe()"
   ]
  },
  {
   "cell_type": "code",
   "execution_count": 362,
   "id": "3dc839b7-a73e-443c-9e9f-0c51a0f21bb3",
   "metadata": {},
   "outputs": [
    {
     "data": {
      "image/png": "[encoded data removed]",
      "text/plain": [
       "<Figure size 800x600 with 1 Axes>"
      ]
     },
     "metadata": {},
     "output_type": "display_data"
    }
   ],
   "source": [
    "# para visualizar cómo podríamos manejar los outliers podemos hacer un gráfico de caja\n",
    "plt.figure(figsize=(8,6))\n",
    "sns.boxplot(x= db[\"age\"])\n",
    "plt.title(\"Boxplot de Edades\")\n",
    "plt.xlabel(\"age\")\n",
    "plt.show()"
   ]
  },
  {
   "cell_type": "markdown",
   "id": "6c510fd4-bb2d-4180-9e19-3198dbd2e304",
   "metadata": {},
   "source": [
    "según los resultados obtenidos podemos apreciar que la edad mínima es de 0.42 años y la edad máxima es de 80 años, los cuales son valores muy extremos, que se encuentran en el límite mínimo de uno de los whiskers y en la parte externa (o también conocido como _outlier_ ) respectivamente. Al comparar estos datos con el percentil 25 que es 20.12 años y con el percentil 75 que es de 38 años. Por lo tanto, para evitar mayores sesgos, en este caso vamos a escoger el valor de la mediana que es de 28 años y es el valor central para todo el conjunto de datos."
   ]
  },
  {
   "cell_type": "code",
   "execution_count": 363,
   "id": "7a17c790-157e-4e97-858a-dc6907c51444",
   "metadata": {},
   "outputs": [],
   "source": [
    "mediana_age = db[\"age\"].median()"
   ]
  },
  {
   "cell_type": "code",
   "execution_count": 364,
   "id": "75419ad3-55bc-4d3f-b1ca-437648be766e",
   "metadata": {},
   "outputs": [
    {
     "name": "stdout",
     "output_type": "stream",
     "text": [
      "PassengerId\n",
      "1      22.0\n",
      "2      38.0\n",
      "3      26.0\n",
      "4      35.0\n",
      "5      35.0\n",
      "       ... \n",
      "887    27.0\n",
      "888    19.0\n",
      "889    28.0\n",
      "890    26.0\n",
      "891    32.0\n",
      "Name: age, Length: 891, dtype: float64\n"
     ]
    }
   ],
   "source": [
    "db[\"age\"].fillna(mediana_age, inplace=True)\n",
    "print (db[\"age\"])"
   ]
  },
  {
   "cell_type": "code",
   "execution_count": 365,
   "id": "539da452-f2c4-4588-8a98-32e53e86db57",
   "metadata": {},
   "outputs": [
    {
     "data": {
      "text/plain": [
       "0"
      ]
     },
     "execution_count": 365,
     "metadata": {},
     "output_type": "execute_result"
    }
   ],
   "source": [
    "db.age.isnull().sum()"
   ]
  },
  {
   "cell_type": "markdown",
   "id": "4aeb71db-6f33-4144-8885-99098c3a937d",
   "metadata": {},
   "source": [
    "* __Imputación de valores en \"embarked\":__"
   ]
  },
  {
   "cell_type": "markdown",
   "id": "6f2bb0ef-c673-44b9-b82a-72261df738ee",
   "metadata": {},
   "source": [
    "ya que sólo son dos valores los que debemos sustituir, buscaremos el valor que más se repita en la columna \"embarked\" y los dos faltantes los vamos a sustituir por ese valor."
   ]
  },
  {
   "cell_type": "code",
   "execution_count": 366,
   "id": "3c8cb704-3af3-421a-b8f5-d5c0893ad179",
   "metadata": {},
   "outputs": [
    {
     "data": {
      "text/plain": [
       "'S'"
      ]
     },
     "execution_count": 366,
     "metadata": {},
     "output_type": "execute_result"
    }
   ],
   "source": [
    "moda_embarked = db.embarked.mode()[0]\n",
    "moda_embarked"
   ]
  },
  {
   "cell_type": "code",
   "execution_count": 367,
   "id": "b46bd79b-1211-4be2-88b2-a80f6275ba72",
   "metadata": {},
   "outputs": [
    {
     "data": {
      "text/plain": [
       "0"
      ]
     },
     "execution_count": 367,
     "metadata": {},
     "output_type": "execute_result"
    }
   ],
   "source": [
    "db.embarked.fillna(moda_embarked, inplace=True)\n",
    "db.embarked.isnull().sum()"
   ]
  },
  {
   "cell_type": "markdown",
   "id": "7a6adff5-4297-4b64-a3d5-c1ea0887ff9a",
   "metadata": {},
   "source": [
    "* __Eliminación de variables:__"
   ]
  },
  {
   "cell_type": "markdown",
   "id": "962be6f0-b58f-40c3-9a7f-30db43112ba5",
   "metadata": {},
   "source": [
    "la columna \"cabin\" tiene muchos datos nulos y al no ser datos relevantes para el porcentaje de supervivencia entonces vamos a eliminar la columna por completo. "
   ]
  },
  {
   "cell_type": "code",
   "execution_count": 368,
   "id": "99978623-2df2-4f34-81ce-fa441a9e780c",
   "metadata": {},
   "outputs": [
    {
     "data": {
      "text/plain": [
       "687"
      ]
     },
     "execution_count": 368,
     "metadata": {},
     "output_type": "execute_result"
    }
   ],
   "source": [
    "db.cabin.isnull().sum()"
   ]
  },
  {
   "cell_type": "code",
   "execution_count": 369,
   "id": "5efe8a12-0032-4e86-b5d4-c7ced4ebcdc9",
   "metadata": {},
   "outputs": [],
   "source": [
    "db.drop(labels=\"cabin\", axis=1, inplace=True)"
   ]
  },
  {
   "cell_type": "markdown",
   "id": "5f608ad1-cafd-42ac-be7f-85e291c69bfa",
   "metadata": {},
   "source": [
    "Lo mismo haremos con la columna \"ticket\", ya que no consideramos que los números del billete de viaje sean importantes para determinar la supervivencia en el naufragio."
   ]
  },
  {
   "cell_type": "code",
   "execution_count": 370,
   "id": "537168c3-3225-4ef3-ba35-b01475070f54",
   "metadata": {},
   "outputs": [],
   "source": [
    "db.drop(labels=\"ticket\", axis=1, inplace=True)"
   ]
  },
  {
   "cell_type": "code",
   "execution_count": 371,
   "id": "708e5427-3598-4e88-9e4b-9993d30711ba",
   "metadata": {},
   "outputs": [
    {
     "data": {
      "text/plain": [
       "Index(['survived', 'pclass', 'name', 'sex', 'age', 'sibsp', 'parch', 'fare',\n",
       "       'embarked'],\n",
       "      dtype='object')"
      ]
     },
     "execution_count": 371,
     "metadata": {},
     "output_type": "execute_result"
    }
   ],
   "source": [
    "db.columns"
   ]
  },
  {
   "cell_type": "code",
   "execution_count": 372,
   "id": "be6c4e22-a02f-408c-bbdd-6d83e1cb0f49",
   "metadata": {},
   "outputs": [
    {
     "name": "stdout",
     "output_type": "stream",
     "text": [
      "<class 'pandas.core.frame.DataFrame'>\n",
      "Index: 891 entries, 1 to 891\n",
      "Data columns (total 9 columns):\n",
      " #   Column    Non-Null Count  Dtype  \n",
      "---  ------    --------------  -----  \n",
      " 0   survived  891 non-null    int64  \n",
      " 1   pclass    891 non-null    int64  \n",
      " 2   name      891 non-null    object \n",
      " 3   sex       891 non-null    object \n",
      " 4   age       891 non-null    float64\n",
      " 5   sibsp     891 non-null    int64  \n",
      " 6   parch     891 non-null    int64  \n",
      " 7   fare      891 non-null    float64\n",
      " 8   embarked  891 non-null    object \n",
      "dtypes: float64(2), int64(4), object(3)\n",
      "memory usage: 69.6+ KB\n"
     ]
    }
   ],
   "source": [
    "db.info()"
   ]
  },
  {
   "cell_type": "code",
   "execution_count": 373,
   "id": "a8acdc0a-b52f-4fdf-8263-f067eaa6e9f0",
   "metadata": {},
   "outputs": [
    {
     "data": {
      "text/html": [
       "<div>\n",
       "<style scoped>\n",
       "    .dataframe tbody tr th:only-of-type {\n",
       "        vertical-align: middle;\n",
       "    }\n",
       "\n",
       "    .dataframe tbody tr th {\n",
       "        vertical-align: top;\n",
       "    }\n",
       "\n",
       "    .dataframe thead th {\n",
       "        text-align: right;\n",
       "    }\n",
       "</style>\n",
       "<table border=\"1\" class=\"dataframe\">\n",
       "  <thead>\n",
       "    <tr style=\"text-align: right;\">\n",
       "      <th></th>\n",
       "      <th>survived</th>\n",
       "      <th>pclass</th>\n",
       "      <th>name</th>\n",
       "      <th>sex</th>\n",
       "      <th>age</th>\n",
       "      <th>sibsp</th>\n",
       "      <th>parch</th>\n",
       "      <th>fare</th>\n",
       "      <th>embarked</th>\n",
       "    </tr>\n",
       "    <tr>\n",
       "      <th>PassengerId</th>\n",
       "      <th></th>\n",
       "      <th></th>\n",
       "      <th></th>\n",
       "      <th></th>\n",
       "      <th></th>\n",
       "      <th></th>\n",
       "      <th></th>\n",
       "      <th></th>\n",
       "      <th></th>\n",
       "    </tr>\n",
       "  </thead>\n",
       "  <tbody>\n",
       "    <tr>\n",
       "      <th>1</th>\n",
       "      <td>0</td>\n",
       "      <td>3</td>\n",
       "      <td>Braund, Mr. Owen Harris</td>\n",
       "      <td>male</td>\n",
       "      <td>22.0</td>\n",
       "      <td>1</td>\n",
       "      <td>0</td>\n",
       "      <td>7.2500</td>\n",
       "      <td>S</td>\n",
       "    </tr>\n",
       "    <tr>\n",
       "      <th>2</th>\n",
       "      <td>1</td>\n",
       "      <td>1</td>\n",
       "      <td>Cumings, Mrs. John Bradley (Florence Briggs Th...</td>\n",
       "      <td>female</td>\n",
       "      <td>38.0</td>\n",
       "      <td>1</td>\n",
       "      <td>0</td>\n",
       "      <td>71.2833</td>\n",
       "      <td>C</td>\n",
       "    </tr>\n",
       "    <tr>\n",
       "      <th>3</th>\n",
       "      <td>1</td>\n",
       "      <td>3</td>\n",
       "      <td>Heikkinen, Miss. Laina</td>\n",
       "      <td>female</td>\n",
       "      <td>26.0</td>\n",
       "      <td>0</td>\n",
       "      <td>0</td>\n",
       "      <td>7.9250</td>\n",
       "      <td>S</td>\n",
       "    </tr>\n",
       "    <tr>\n",
       "      <th>4</th>\n",
       "      <td>1</td>\n",
       "      <td>1</td>\n",
       "      <td>Futrelle, Mrs. Jacques Heath (Lily May Peel)</td>\n",
       "      <td>female</td>\n",
       "      <td>35.0</td>\n",
       "      <td>1</td>\n",
       "      <td>0</td>\n",
       "      <td>53.1000</td>\n",
       "      <td>S</td>\n",
       "    </tr>\n",
       "    <tr>\n",
       "      <th>5</th>\n",
       "      <td>0</td>\n",
       "      <td>3</td>\n",
       "      <td>Allen, Mr. William Henry</td>\n",
       "      <td>male</td>\n",
       "      <td>35.0</td>\n",
       "      <td>0</td>\n",
       "      <td>0</td>\n",
       "      <td>8.0500</td>\n",
       "      <td>S</td>\n",
       "    </tr>\n",
       "    <tr>\n",
       "      <th>6</th>\n",
       "      <td>0</td>\n",
       "      <td>3</td>\n",
       "      <td>Moran, Mr. James</td>\n",
       "      <td>male</td>\n",
       "      <td>28.0</td>\n",
       "      <td>0</td>\n",
       "      <td>0</td>\n",
       "      <td>8.4583</td>\n",
       "      <td>Q</td>\n",
       "    </tr>\n",
       "    <tr>\n",
       "      <th>7</th>\n",
       "      <td>0</td>\n",
       "      <td>1</td>\n",
       "      <td>McCarthy, Mr. Timothy J</td>\n",
       "      <td>male</td>\n",
       "      <td>54.0</td>\n",
       "      <td>0</td>\n",
       "      <td>0</td>\n",
       "      <td>51.8625</td>\n",
       "      <td>S</td>\n",
       "    </tr>\n",
       "    <tr>\n",
       "      <th>8</th>\n",
       "      <td>0</td>\n",
       "      <td>3</td>\n",
       "      <td>Palsson, Master. Gosta Leonard</td>\n",
       "      <td>male</td>\n",
       "      <td>2.0</td>\n",
       "      <td>3</td>\n",
       "      <td>1</td>\n",
       "      <td>21.0750</td>\n",
       "      <td>S</td>\n",
       "    </tr>\n",
       "    <tr>\n",
       "      <th>9</th>\n",
       "      <td>1</td>\n",
       "      <td>3</td>\n",
       "      <td>Johnson, Mrs. Oscar W (Elisabeth Vilhelmina Berg)</td>\n",
       "      <td>female</td>\n",
       "      <td>27.0</td>\n",
       "      <td>0</td>\n",
       "      <td>2</td>\n",
       "      <td>11.1333</td>\n",
       "      <td>S</td>\n",
       "    </tr>\n",
       "    <tr>\n",
       "      <th>10</th>\n",
       "      <td>1</td>\n",
       "      <td>2</td>\n",
       "      <td>Nasser, Mrs. Nicholas (Adele Achem)</td>\n",
       "      <td>female</td>\n",
       "      <td>14.0</td>\n",
       "      <td>1</td>\n",
       "      <td>0</td>\n",
       "      <td>30.0708</td>\n",
       "      <td>C</td>\n",
       "    </tr>\n",
       "  </tbody>\n",
       "</table>\n",
       "</div>"
      ],
      "text/plain": [
       "             survived  pclass  \\\n",
       "PassengerId                     \n",
       "1                   0       3   \n",
       "2                   1       1   \n",
       "3                   1       3   \n",
       "4                   1       1   \n",
       "5                   0       3   \n",
       "6                   0       3   \n",
       "7                   0       1   \n",
       "8                   0       3   \n",
       "9                   1       3   \n",
       "10                  1       2   \n",
       "\n",
       "                                                          name     sex   age  \\\n",
       "PassengerId                                                                    \n",
       "1                                      Braund, Mr. Owen Harris    male  22.0   \n",
       "2            Cumings, Mrs. John Bradley (Florence Briggs Th...  female  38.0   \n",
       "3                                       Heikkinen, Miss. Laina  female  26.0   \n",
       "4                 Futrelle, Mrs. Jacques Heath (Lily May Peel)  female  35.0   \n",
       "5                                     Allen, Mr. William Henry    male  35.0   \n",
       "6                                             Moran, Mr. James    male  28.0   \n",
       "7                                      McCarthy, Mr. Timothy J    male  54.0   \n",
       "8                               Palsson, Master. Gosta Leonard    male   2.0   \n",
       "9            Johnson, Mrs. Oscar W (Elisabeth Vilhelmina Berg)  female  27.0   \n",
       "10                         Nasser, Mrs. Nicholas (Adele Achem)  female  14.0   \n",
       "\n",
       "             sibsp  parch     fare embarked  \n",
       "PassengerId                                  \n",
       "1                1      0   7.2500        S  \n",
       "2                1      0  71.2833        C  \n",
       "3                0      0   7.9250        S  \n",
       "4                1      0  53.1000        S  \n",
       "5                0      0   8.0500        S  \n",
       "6                0      0   8.4583        Q  \n",
       "7                0      0  51.8625        S  \n",
       "8                3      1  21.0750        S  \n",
       "9                0      2  11.1333        S  \n",
       "10               1      0  30.0708        C  "
      ]
     },
     "execution_count": 373,
     "metadata": {},
     "output_type": "execute_result"
    }
   ],
   "source": [
    "db.head(10)"
   ]
  },
  {
   "cell_type": "markdown",
   "id": "e1c3474b-48eb-4979-ac80-bd3fb4104cc1",
   "metadata": {},
   "source": [
    "Vemos que nuestro dataset se ha reducido y nos permite visualizar con más detalle los datos que nos presenta. Podemos apreciar que la columna \"name\" nos muestra el nombre completo de los pasajeros junto con el título que poseen. Sería interesante poder analizar si el título también fue relevante a la hora de decidir quiénes subirían a los botes salvavidas y, por consiguiente, tendrían mayores probabilidades de sobrevivir."
   ]
  },
  {
   "cell_type": "markdown",
   "id": "a95cc046-e349-4046-a7bd-0b3c59e6166f",
   "metadata": {},
   "source": [
    "* __Separación de datos y creación de nuevas columnas__"
   ]
  },
  {
   "cell_type": "markdown",
   "id": "7eaed1ec-5f83-4c52-b096-995b25e77111",
   "metadata": {},
   "source": [
    "Tal como se puede apreciar en la columna \"name\", el título está situado después de una coma y justo antes de un punto, a veces está situado en segundo lugar, pero no siempre, así que para poder separarlo usaremos la librería de expresiones regulares junto con una función lambda para separar los nombres de los títulos y crear una nueva columna _\"title\"_ que nos permita analizar los datos por separado: "
   ]
  },
  {
   "cell_type": "code",
   "execution_count": 374,
   "id": "9363af48-2df9-4918-80de-dff4a91be0fc",
   "metadata": {},
   "outputs": [],
   "source": [
    "import re"
   ]
  },
  {
   "cell_type": "code",
   "execution_count": 375,
   "id": "176eff4e-743c-463a-b66f-a77b71910f61",
   "metadata": {},
   "outputs": [],
   "source": [
    "db[\"title\"] = db[\"name\"].apply(lambda x: re.search(r',\\s*(.*?)\\s*\\.', x).group(1))"
   ]
  },
  {
   "cell_type": "markdown",
   "id": "91c66cc4-8f69-4e09-a9a5-3b6f88e82a29",
   "metadata": {},
   "source": [
    "asimismo creamos una nueva columna _\"full_name\"_ que junte el nombre completo y demás datos adjuntos de los pasajeros:"
   ]
  },
  {
   "cell_type": "code",
   "execution_count": 376,
   "id": "5b3e875e-8dd8-42fb-9cd1-2002fc718474",
   "metadata": {},
   "outputs": [],
   "source": [
    "db[\"full_name\"] = db[\"name\"].apply(lambda x: re.sub(r',\\s*(.*?)\\s*\\.', '', x).strip())"
   ]
  },
  {
   "cell_type": "code",
   "execution_count": 377,
   "id": "efd90074-e7e2-49e1-8629-3564e6569e50",
   "metadata": {},
   "outputs": [
    {
     "data": {
      "text/html": [
       "<div>\n",
       "<style scoped>\n",
       "    .dataframe tbody tr th:only-of-type {\n",
       "        vertical-align: middle;\n",
       "    }\n",
       "\n",
       "    .dataframe tbody tr th {\n",
       "        vertical-align: top;\n",
       "    }\n",
       "\n",
       "    .dataframe thead th {\n",
       "        text-align: right;\n",
       "    }\n",
       "</style>\n",
       "<table border=\"1\" class=\"dataframe\">\n",
       "  <thead>\n",
       "    <tr style=\"text-align: right;\">\n",
       "      <th></th>\n",
       "      <th>survived</th>\n",
       "      <th>pclass</th>\n",
       "      <th>name</th>\n",
       "      <th>sex</th>\n",
       "      <th>age</th>\n",
       "      <th>sibsp</th>\n",
       "      <th>parch</th>\n",
       "      <th>fare</th>\n",
       "      <th>embarked</th>\n",
       "      <th>title</th>\n",
       "      <th>full_name</th>\n",
       "    </tr>\n",
       "    <tr>\n",
       "      <th>PassengerId</th>\n",
       "      <th></th>\n",
       "      <th></th>\n",
       "      <th></th>\n",
       "      <th></th>\n",
       "      <th></th>\n",
       "      <th></th>\n",
       "      <th></th>\n",
       "      <th></th>\n",
       "      <th></th>\n",
       "      <th></th>\n",
       "      <th></th>\n",
       "    </tr>\n",
       "  </thead>\n",
       "  <tbody>\n",
       "    <tr>\n",
       "      <th>1</th>\n",
       "      <td>0</td>\n",
       "      <td>3</td>\n",
       "      <td>Braund, Mr. Owen Harris</td>\n",
       "      <td>male</td>\n",
       "      <td>22.0</td>\n",
       "      <td>1</td>\n",
       "      <td>0</td>\n",
       "      <td>7.2500</td>\n",
       "      <td>S</td>\n",
       "      <td>Mr</td>\n",
       "      <td>Braund Owen Harris</td>\n",
       "    </tr>\n",
       "    <tr>\n",
       "      <th>2</th>\n",
       "      <td>1</td>\n",
       "      <td>1</td>\n",
       "      <td>Cumings, Mrs. John Bradley (Florence Briggs Th...</td>\n",
       "      <td>female</td>\n",
       "      <td>38.0</td>\n",
       "      <td>1</td>\n",
       "      <td>0</td>\n",
       "      <td>71.2833</td>\n",
       "      <td>C</td>\n",
       "      <td>Mrs</td>\n",
       "      <td>Cumings John Bradley (Florence Briggs Thayer)</td>\n",
       "    </tr>\n",
       "    <tr>\n",
       "      <th>3</th>\n",
       "      <td>1</td>\n",
       "      <td>3</td>\n",
       "      <td>Heikkinen, Miss. Laina</td>\n",
       "      <td>female</td>\n",
       "      <td>26.0</td>\n",
       "      <td>0</td>\n",
       "      <td>0</td>\n",
       "      <td>7.9250</td>\n",
       "      <td>S</td>\n",
       "      <td>Miss</td>\n",
       "      <td>Heikkinen Laina</td>\n",
       "    </tr>\n",
       "    <tr>\n",
       "      <th>4</th>\n",
       "      <td>1</td>\n",
       "      <td>1</td>\n",
       "      <td>Futrelle, Mrs. Jacques Heath (Lily May Peel)</td>\n",
       "      <td>female</td>\n",
       "      <td>35.0</td>\n",
       "      <td>1</td>\n",
       "      <td>0</td>\n",
       "      <td>53.1000</td>\n",
       "      <td>S</td>\n",
       "      <td>Mrs</td>\n",
       "      <td>Futrelle Jacques Heath (Lily May Peel)</td>\n",
       "    </tr>\n",
       "    <tr>\n",
       "      <th>5</th>\n",
       "      <td>0</td>\n",
       "      <td>3</td>\n",
       "      <td>Allen, Mr. William Henry</td>\n",
       "      <td>male</td>\n",
       "      <td>35.0</td>\n",
       "      <td>0</td>\n",
       "      <td>0</td>\n",
       "      <td>8.0500</td>\n",
       "      <td>S</td>\n",
       "      <td>Mr</td>\n",
       "      <td>Allen William Henry</td>\n",
       "    </tr>\n",
       "    <tr>\n",
       "      <th>6</th>\n",
       "      <td>0</td>\n",
       "      <td>3</td>\n",
       "      <td>Moran, Mr. James</td>\n",
       "      <td>male</td>\n",
       "      <td>28.0</td>\n",
       "      <td>0</td>\n",
       "      <td>0</td>\n",
       "      <td>8.4583</td>\n",
       "      <td>Q</td>\n",
       "      <td>Mr</td>\n",
       "      <td>Moran James</td>\n",
       "    </tr>\n",
       "    <tr>\n",
       "      <th>7</th>\n",
       "      <td>0</td>\n",
       "      <td>1</td>\n",
       "      <td>McCarthy, Mr. Timothy J</td>\n",
       "      <td>male</td>\n",
       "      <td>54.0</td>\n",
       "      <td>0</td>\n",
       "      <td>0</td>\n",
       "      <td>51.8625</td>\n",
       "      <td>S</td>\n",
       "      <td>Mr</td>\n",
       "      <td>McCarthy Timothy J</td>\n",
       "    </tr>\n",
       "    <tr>\n",
       "      <th>8</th>\n",
       "      <td>0</td>\n",
       "      <td>3</td>\n",
       "      <td>Palsson, Master. Gosta Leonard</td>\n",
       "      <td>male</td>\n",
       "      <td>2.0</td>\n",
       "      <td>3</td>\n",
       "      <td>1</td>\n",
       "      <td>21.0750</td>\n",
       "      <td>S</td>\n",
       "      <td>Master</td>\n",
       "      <td>Palsson Gosta Leonard</td>\n",
       "    </tr>\n",
       "    <tr>\n",
       "      <th>9</th>\n",
       "      <td>1</td>\n",
       "      <td>3</td>\n",
       "      <td>Johnson, Mrs. Oscar W (Elisabeth Vilhelmina Berg)</td>\n",
       "      <td>female</td>\n",
       "      <td>27.0</td>\n",
       "      <td>0</td>\n",
       "      <td>2</td>\n",
       "      <td>11.1333</td>\n",
       "      <td>S</td>\n",
       "      <td>Mrs</td>\n",
       "      <td>Johnson Oscar W (Elisabeth Vilhelmina Berg)</td>\n",
       "    </tr>\n",
       "    <tr>\n",
       "      <th>10</th>\n",
       "      <td>1</td>\n",
       "      <td>2</td>\n",
       "      <td>Nasser, Mrs. Nicholas (Adele Achem)</td>\n",
       "      <td>female</td>\n",
       "      <td>14.0</td>\n",
       "      <td>1</td>\n",
       "      <td>0</td>\n",
       "      <td>30.0708</td>\n",
       "      <td>C</td>\n",
       "      <td>Mrs</td>\n",
       "      <td>Nasser Nicholas (Adele Achem)</td>\n",
       "    </tr>\n",
       "  </tbody>\n",
       "</table>\n",
       "</div>"
      ],
      "text/plain": [
       "             survived  pclass  \\\n",
       "PassengerId                     \n",
       "1                   0       3   \n",
       "2                   1       1   \n",
       "3                   1       3   \n",
       "4                   1       1   \n",
       "5                   0       3   \n",
       "6                   0       3   \n",
       "7                   0       1   \n",
       "8                   0       3   \n",
       "9                   1       3   \n",
       "10                  1       2   \n",
       "\n",
       "                                                          name     sex   age  \\\n",
       "PassengerId                                                                    \n",
       "1                                      Braund, Mr. Owen Harris    male  22.0   \n",
       "2            Cumings, Mrs. John Bradley (Florence Briggs Th...  female  38.0   \n",
       "3                                       Heikkinen, Miss. Laina  female  26.0   \n",
       "4                 Futrelle, Mrs. Jacques Heath (Lily May Peel)  female  35.0   \n",
       "5                                     Allen, Mr. William Henry    male  35.0   \n",
       "6                                             Moran, Mr. James    male  28.0   \n",
       "7                                      McCarthy, Mr. Timothy J    male  54.0   \n",
       "8                               Palsson, Master. Gosta Leonard    male   2.0   \n",
       "9            Johnson, Mrs. Oscar W (Elisabeth Vilhelmina Berg)  female  27.0   \n",
       "10                         Nasser, Mrs. Nicholas (Adele Achem)  female  14.0   \n",
       "\n",
       "             sibsp  parch     fare embarked   title  \\\n",
       "PassengerId                                           \n",
       "1                1      0   7.2500        S      Mr   \n",
       "2                1      0  71.2833        C     Mrs   \n",
       "3                0      0   7.9250        S    Miss   \n",
       "4                1      0  53.1000        S     Mrs   \n",
       "5                0      0   8.0500        S      Mr   \n",
       "6                0      0   8.4583        Q      Mr   \n",
       "7                0      0  51.8625        S      Mr   \n",
       "8                3      1  21.0750        S  Master   \n",
       "9                0      2  11.1333        S     Mrs   \n",
       "10               1      0  30.0708        C     Mrs   \n",
       "\n",
       "                                                 full_name  \n",
       "PassengerId                                                 \n",
       "1                                       Braund Owen Harris  \n",
       "2            Cumings John Bradley (Florence Briggs Thayer)  \n",
       "3                                          Heikkinen Laina  \n",
       "4                   Futrelle Jacques Heath (Lily May Peel)  \n",
       "5                                      Allen William Henry  \n",
       "6                                              Moran James  \n",
       "7                                       McCarthy Timothy J  \n",
       "8                                    Palsson Gosta Leonard  \n",
       "9              Johnson Oscar W (Elisabeth Vilhelmina Berg)  \n",
       "10                           Nasser Nicholas (Adele Achem)  "
      ]
     },
     "execution_count": 377,
     "metadata": {},
     "output_type": "execute_result"
    }
   ],
   "source": [
    "db.head(10)"
   ]
  },
  {
   "cell_type": "markdown",
   "id": "0eb412ee-1c83-46f5-9e23-ef76da3d94e2",
   "metadata": {},
   "source": [
    "por último eliminamos la columna \"name\" para evitar duplicidades:"
   ]
  },
  {
   "cell_type": "code",
   "execution_count": 378,
   "id": "7742a7b8-a744-4db2-bcf2-3de87d82ebf9",
   "metadata": {},
   "outputs": [],
   "source": [
    "db.drop (labels=\"name\", axis=1, inplace=True)"
   ]
  },
  {
   "cell_type": "code",
   "execution_count": 379,
   "id": "c8cb66cf-7ace-4eed-9416-f8dbd27a0611",
   "metadata": {},
   "outputs": [
    {
     "data": {
      "text/html": [
       "<div>\n",
       "<style scoped>\n",
       "    .dataframe tbody tr th:only-of-type {\n",
       "        vertical-align: middle;\n",
       "    }\n",
       "\n",
       "    .dataframe tbody tr th {\n",
       "        vertical-align: top;\n",
       "    }\n",
       "\n",
       "    .dataframe thead th {\n",
       "        text-align: right;\n",
       "    }\n",
       "</style>\n",
       "<table border=\"1\" class=\"dataframe\">\n",
       "  <thead>\n",
       "    <tr style=\"text-align: right;\">\n",
       "      <th></th>\n",
       "      <th>survived</th>\n",
       "      <th>pclass</th>\n",
       "      <th>sex</th>\n",
       "      <th>age</th>\n",
       "      <th>sibsp</th>\n",
       "      <th>parch</th>\n",
       "      <th>fare</th>\n",
       "      <th>embarked</th>\n",
       "      <th>title</th>\n",
       "      <th>full_name</th>\n",
       "    </tr>\n",
       "    <tr>\n",
       "      <th>PassengerId</th>\n",
       "      <th></th>\n",
       "      <th></th>\n",
       "      <th></th>\n",
       "      <th></th>\n",
       "      <th></th>\n",
       "      <th></th>\n",
       "      <th></th>\n",
       "      <th></th>\n",
       "      <th></th>\n",
       "      <th></th>\n",
       "    </tr>\n",
       "  </thead>\n",
       "  <tbody>\n",
       "    <tr>\n",
       "      <th>1</th>\n",
       "      <td>0</td>\n",
       "      <td>3</td>\n",
       "      <td>male</td>\n",
       "      <td>22.0</td>\n",
       "      <td>1</td>\n",
       "      <td>0</td>\n",
       "      <td>7.2500</td>\n",
       "      <td>S</td>\n",
       "      <td>Mr</td>\n",
       "      <td>Braund Owen Harris</td>\n",
       "    </tr>\n",
       "    <tr>\n",
       "      <th>2</th>\n",
       "      <td>1</td>\n",
       "      <td>1</td>\n",
       "      <td>female</td>\n",
       "      <td>38.0</td>\n",
       "      <td>1</td>\n",
       "      <td>0</td>\n",
       "      <td>71.2833</td>\n",
       "      <td>C</td>\n",
       "      <td>Mrs</td>\n",
       "      <td>Cumings John Bradley (Florence Briggs Thayer)</td>\n",
       "    </tr>\n",
       "    <tr>\n",
       "      <th>3</th>\n",
       "      <td>1</td>\n",
       "      <td>3</td>\n",
       "      <td>female</td>\n",
       "      <td>26.0</td>\n",
       "      <td>0</td>\n",
       "      <td>0</td>\n",
       "      <td>7.9250</td>\n",
       "      <td>S</td>\n",
       "      <td>Miss</td>\n",
       "      <td>Heikkinen Laina</td>\n",
       "    </tr>\n",
       "    <tr>\n",
       "      <th>4</th>\n",
       "      <td>1</td>\n",
       "      <td>1</td>\n",
       "      <td>female</td>\n",
       "      <td>35.0</td>\n",
       "      <td>1</td>\n",
       "      <td>0</td>\n",
       "      <td>53.1000</td>\n",
       "      <td>S</td>\n",
       "      <td>Mrs</td>\n",
       "      <td>Futrelle Jacques Heath (Lily May Peel)</td>\n",
       "    </tr>\n",
       "    <tr>\n",
       "      <th>5</th>\n",
       "      <td>0</td>\n",
       "      <td>3</td>\n",
       "      <td>male</td>\n",
       "      <td>35.0</td>\n",
       "      <td>0</td>\n",
       "      <td>0</td>\n",
       "      <td>8.0500</td>\n",
       "      <td>S</td>\n",
       "      <td>Mr</td>\n",
       "      <td>Allen William Henry</td>\n",
       "    </tr>\n",
       "    <tr>\n",
       "      <th>6</th>\n",
       "      <td>0</td>\n",
       "      <td>3</td>\n",
       "      <td>male</td>\n",
       "      <td>28.0</td>\n",
       "      <td>0</td>\n",
       "      <td>0</td>\n",
       "      <td>8.4583</td>\n",
       "      <td>Q</td>\n",
       "      <td>Mr</td>\n",
       "      <td>Moran James</td>\n",
       "    </tr>\n",
       "    <tr>\n",
       "      <th>7</th>\n",
       "      <td>0</td>\n",
       "      <td>1</td>\n",
       "      <td>male</td>\n",
       "      <td>54.0</td>\n",
       "      <td>0</td>\n",
       "      <td>0</td>\n",
       "      <td>51.8625</td>\n",
       "      <td>S</td>\n",
       "      <td>Mr</td>\n",
       "      <td>McCarthy Timothy J</td>\n",
       "    </tr>\n",
       "    <tr>\n",
       "      <th>8</th>\n",
       "      <td>0</td>\n",
       "      <td>3</td>\n",
       "      <td>male</td>\n",
       "      <td>2.0</td>\n",
       "      <td>3</td>\n",
       "      <td>1</td>\n",
       "      <td>21.0750</td>\n",
       "      <td>S</td>\n",
       "      <td>Master</td>\n",
       "      <td>Palsson Gosta Leonard</td>\n",
       "    </tr>\n",
       "    <tr>\n",
       "      <th>9</th>\n",
       "      <td>1</td>\n",
       "      <td>3</td>\n",
       "      <td>female</td>\n",
       "      <td>27.0</td>\n",
       "      <td>0</td>\n",
       "      <td>2</td>\n",
       "      <td>11.1333</td>\n",
       "      <td>S</td>\n",
       "      <td>Mrs</td>\n",
       "      <td>Johnson Oscar W (Elisabeth Vilhelmina Berg)</td>\n",
       "    </tr>\n",
       "    <tr>\n",
       "      <th>10</th>\n",
       "      <td>1</td>\n",
       "      <td>2</td>\n",
       "      <td>female</td>\n",
       "      <td>14.0</td>\n",
       "      <td>1</td>\n",
       "      <td>0</td>\n",
       "      <td>30.0708</td>\n",
       "      <td>C</td>\n",
       "      <td>Mrs</td>\n",
       "      <td>Nasser Nicholas (Adele Achem)</td>\n",
       "    </tr>\n",
       "  </tbody>\n",
       "</table>\n",
       "</div>"
      ],
      "text/plain": [
       "             survived  pclass     sex   age  sibsp  parch     fare embarked  \\\n",
       "PassengerId                                                                   \n",
       "1                   0       3    male  22.0      1      0   7.2500        S   \n",
       "2                   1       1  female  38.0      1      0  71.2833        C   \n",
       "3                   1       3  female  26.0      0      0   7.9250        S   \n",
       "4                   1       1  female  35.0      1      0  53.1000        S   \n",
       "5                   0       3    male  35.0      0      0   8.0500        S   \n",
       "6                   0       3    male  28.0      0      0   8.4583        Q   \n",
       "7                   0       1    male  54.0      0      0  51.8625        S   \n",
       "8                   0       3    male   2.0      3      1  21.0750        S   \n",
       "9                   1       3  female  27.0      0      2  11.1333        S   \n",
       "10                  1       2  female  14.0      1      0  30.0708        C   \n",
       "\n",
       "              title                                      full_name  \n",
       "PassengerId                                                         \n",
       "1                Mr                             Braund Owen Harris  \n",
       "2               Mrs  Cumings John Bradley (Florence Briggs Thayer)  \n",
       "3              Miss                                Heikkinen Laina  \n",
       "4               Mrs         Futrelle Jacques Heath (Lily May Peel)  \n",
       "5                Mr                            Allen William Henry  \n",
       "6                Mr                                    Moran James  \n",
       "7                Mr                             McCarthy Timothy J  \n",
       "8            Master                          Palsson Gosta Leonard  \n",
       "9               Mrs    Johnson Oscar W (Elisabeth Vilhelmina Berg)  \n",
       "10              Mrs                  Nasser Nicholas (Adele Achem)  "
      ]
     },
     "execution_count": 379,
     "metadata": {},
     "output_type": "execute_result"
    }
   ],
   "source": [
    "db.head(10)"
   ]
  },
  {
   "cell_type": "markdown",
   "id": "f4931cbc-0e0c-40c5-a84d-bdc39b1653ea",
   "metadata": {},
   "source": [
    "ahora, ya tenemos una mejor óptica del conjunto de datos para poder analizarlos más al detalle."
   ]
  },
  {
   "cell_type": "code",
   "execution_count": null,
   "id": "c1577d57-6b41-4170-bbab-ce94be947f24",
   "metadata": {},
   "outputs": [],
   "source": []
  },
  {
   "cell_type": "markdown",
   "id": "4c7abf17-3ef7-433f-851a-7c167a91cb10",
   "metadata": {},
   "source": [
    "### 5) y 6) - Descripción estadística de los datos y visualización"
   ]
  },
  {
   "cell_type": "markdown",
   "id": "5e84351a-d4fe-4671-bd8c-f695e0772e24",
   "metadata": {},
   "source": [
    "##### Análisis univariado de variables categóricas"
   ]
  },
  {
   "cell_type": "markdown",
   "id": "d5a43c56-9d9a-420a-a2e8-0ee403f24563",
   "metadata": {},
   "source": [
    "* Variable __\"survived\"__"
   ]
  },
  {
   "cell_type": "code",
   "execution_count": 380,
   "id": "3765188d-c1a7-4afe-987f-d878c67ae8ac",
   "metadata": {},
   "outputs": [
    {
     "data": {
      "text/plain": [
       "survived\n",
       "0    549\n",
       "1    342\n",
       "Name: count, dtype: int64"
      ]
     },
     "execution_count": 380,
     "metadata": {},
     "output_type": "execute_result"
    }
   ],
   "source": [
    "db.survived.value_counts()"
   ]
  },
  {
   "cell_type": "code",
   "execution_count": 381,
   "id": "e6aa2c0d-bd96-451c-9576-2c08b8e3af35",
   "metadata": {},
   "outputs": [
    {
     "data": {
      "image/png": "[encoded data removed]",
      "text/plain": [
       "<Figure size 640x480 with 1 Axes>"
      ]
     },
     "metadata": {},
     "output_type": "display_data"
    }
   ],
   "source": [
    "plt.figure(\"survived\")\n",
    "sns.countplot(x=\"survived\", data=db, palette=\"colorblind\", width=0.5);"
   ]
  },
  {
   "cell_type": "markdown",
   "id": "a7643fe9-29e8-4142-a67c-ec2a5e8e00c8",
   "metadata": {},
   "source": [
    "Según el conteo de supervivencia de nuestra muestra, podemos apreciar que la mayoría de pasajeros, 549 no sobrevivieron, tan sólo se salvaron 342 pasajeros. "
   ]
  },
  {
   "cell_type": "markdown",
   "id": "cdb8b1bb-7f56-4d7e-aa5e-98bcbabdeb6a",
   "metadata": {},
   "source": [
    "* Variable __\"sex\"__"
   ]
  },
  {
   "cell_type": "code",
   "execution_count": 382,
   "id": "85add5ac-758a-4914-a534-dbc2d51bf993",
   "metadata": {},
   "outputs": [
    {
     "data": {
      "text/plain": [
       "sex\n",
       "male      577\n",
       "female    314\n",
       "Name: count, dtype: int64"
      ]
     },
     "execution_count": 382,
     "metadata": {},
     "output_type": "execute_result"
    }
   ],
   "source": [
    "db.sex.value_counts()"
   ]
  },
  {
   "cell_type": "code",
   "execution_count": 383,
   "id": "1c518511-c5ce-4124-9126-e73ee56909d9",
   "metadata": {},
   "outputs": [
    {
     "data": {
      "image/png": "[encoded data removed]",
      "text/plain": [
       "<Figure size 640x480 with 1 Axes>"
      ]
     },
     "metadata": {},
     "output_type": "display_data"
    }
   ],
   "source": [
    "db.sex.value_counts(normalize=True).plot.pie(autopct=\"%1.1f%%\")\n",
    "plt.show()"
   ]
  },
  {
   "cell_type": "markdown",
   "id": "44b5fcec-04e0-428d-aeca-8f4b65a0e021",
   "metadata": {},
   "source": [
    "Según los datos proporcionados por nuestro dataset, 577 pasajeros fueron hombres (65%) y 314 fueron mujeres(35%)."
   ]
  },
  {
   "cell_type": "markdown",
   "id": "c13ed214-c953-44cf-bb09-18cccff48867",
   "metadata": {},
   "source": [
    "* Variable __\"pclass\"__"
   ]
  },
  {
   "cell_type": "code",
   "execution_count": 384,
   "id": "7a62907f-4aaa-4328-ac14-ef6208848b2b",
   "metadata": {},
   "outputs": [
    {
     "data": {
      "text/plain": [
       "pclass\n",
       "3    491\n",
       "1    216\n",
       "2    184\n",
       "Name: count, dtype: int64"
      ]
     },
     "execution_count": 384,
     "metadata": {},
     "output_type": "execute_result"
    }
   ],
   "source": [
    "db.pclass.value_counts()"
   ]
  },
  {
   "cell_type": "code",
   "execution_count": 385,
   "id": "dee2b181-b4e8-4327-a4f3-fa3d4591479c",
   "metadata": {},
   "outputs": [
    {
     "data": {
      "text/plain": [
       "pclass\n",
       "3    0.551066\n",
       "1    0.242424\n",
       "2    0.206510\n",
       "Name: proportion, dtype: float64"
      ]
     },
     "execution_count": 385,
     "metadata": {},
     "output_type": "execute_result"
    }
   ],
   "source": [
    "db.pclass.value_counts(normalize=True)"
   ]
  },
  {
   "cell_type": "code",
   "execution_count": 386,
   "id": "51d578a9-a7a4-41a9-a6a9-87089d2ce3b2",
   "metadata": {},
   "outputs": [
    {
     "data": {
      "image/png": "[encoded data removed]",
      "text/plain": [
       "<Figure size 640x480 with 1 Axes>"
      ]
     },
     "metadata": {},
     "output_type": "display_data"
    }
   ],
   "source": [
    "plt.figure(\"pclass\")\n",
    "sns.countplot(x=\"pclass\", data=db, palette=\"colorblind\", width=0.5);"
   ]
  },
  {
   "cell_type": "markdown",
   "id": "a1b776c1-a115-4f9a-884e-98e809092522",
   "metadata": {},
   "source": [
    "La gran mayoría de pasajeros 491 viajaban en tercera clase, poco más del 55%, seguida de los pasajeros de primera clase 216, aproximadamente el 24% y 184 pasajeros viajaban en segunda clase aprox 20%."
   ]
  },
  {
   "cell_type": "markdown",
   "id": "3d5b9b44-bd6f-4e3a-9496-bfd6a4922529",
   "metadata": {},
   "source": [
    "* Variable __\"sibsp\"__"
   ]
  },
  {
   "cell_type": "code",
   "execution_count": 387,
   "id": "076996c1-cf62-4767-be55-29792f929a18",
   "metadata": {},
   "outputs": [
    {
     "data": {
      "text/plain": [
       "sibsp\n",
       "0    608\n",
       "1    209\n",
       "2     28\n",
       "4     18\n",
       "3     16\n",
       "8      7\n",
       "5      5\n",
       "Name: count, dtype: int64"
      ]
     },
     "execution_count": 387,
     "metadata": {},
     "output_type": "execute_result"
    }
   ],
   "source": [
    "db.sibsp.value_counts()"
   ]
  },
  {
   "cell_type": "code",
   "execution_count": 388,
   "id": "775754bb-2f6c-4a61-8eb6-c4c0be8656b5",
   "metadata": {},
   "outputs": [
    {
     "data": {
      "image/png": "[encoded data removed]",
      "text/plain": [
       "<Figure size 640x480 with 1 Axes>"
      ]
     },
     "metadata": {},
     "output_type": "display_data"
    }
   ],
   "source": [
    "plt.figure(\"sibsp\")\n",
    "sns.countplot(x=\"sibsp\", data=db, palette=\"colorblind\");"
   ]
  },
  {
   "cell_type": "markdown",
   "id": "856850ac-f21d-491d-83e3-42cc5899e40a",
   "metadata": {},
   "source": [
    "La mayoría de pasajeros 608 aproximadamente el 68% viajaba solo, seguido de 209 pasajeros poco más del 23% que viajaban con algún hermano o cónyuge, en el gráfico también podemos ver otros datos de familias más numerosas."
   ]
  },
  {
   "cell_type": "markdown",
   "id": "5b8e92a8-b29a-4b97-9980-d0cb930e6ccb",
   "metadata": {},
   "source": [
    "* Variable __\"parch\"__"
   ]
  },
  {
   "cell_type": "code",
   "execution_count": 389,
   "id": "4172f6e1-7574-472b-bac7-f40082721e9e",
   "metadata": {},
   "outputs": [
    {
     "data": {
      "text/plain": [
       "parch\n",
       "0    678\n",
       "1    118\n",
       "2     80\n",
       "5      5\n",
       "3      5\n",
       "4      4\n",
       "6      1\n",
       "Name: count, dtype: int64"
      ]
     },
     "execution_count": 389,
     "metadata": {},
     "output_type": "execute_result"
    }
   ],
   "source": [
    "db.parch.value_counts()"
   ]
  },
  {
   "cell_type": "code",
   "execution_count": 390,
   "id": "23d6c791-277f-4aec-863c-014e481c321b",
   "metadata": {},
   "outputs": [
    {
     "data": {
      "image/png": "[encoded data removed]",
      "text/plain": [
       "<Figure size 640x480 with 1 Axes>"
      ]
     },
     "metadata": {},
     "output_type": "display_data"
    }
   ],
   "source": [
    "plt.figure(\"parch\")\n",
    "sns.countplot(x=\"parch\", data=db, palette=\"colorblind\");"
   ]
  },
  {
   "cell_type": "markdown",
   "id": "1da7da1f-497a-4587-b0ac-3ea2ddc35110",
   "metadata": {},
   "source": [
    "Al igual que con la variable sibsp, aquí podemos decir que la mayoría de pasajeros 678 (aproximadamente el 76%) viajaba solo, seguido de 118 pasajeros (poco más del 13%) que viajaban con algún padre o hijos, en el gráfico también podemos ver otros datos de familias más numerosas."
   ]
  },
  {
   "cell_type": "markdown",
   "id": "8c0db4f8-dc49-41f2-b79a-fc36268f2483",
   "metadata": {},
   "source": [
    "* Variable __\"embarked\"__"
   ]
  },
  {
   "cell_type": "code",
   "execution_count": 391,
   "id": "66b8c689-f155-44c0-a6cb-58fa4a2d58b2",
   "metadata": {},
   "outputs": [
    {
     "data": {
      "text/plain": [
       "embarked\n",
       "S    646\n",
       "C    168\n",
       "Q     77\n",
       "Name: count, dtype: int64"
      ]
     },
     "execution_count": 391,
     "metadata": {},
     "output_type": "execute_result"
    }
   ],
   "source": [
    "db.embarked.value_counts()"
   ]
  },
  {
   "cell_type": "code",
   "execution_count": 392,
   "id": "009b74b4-760a-45da-9b6a-8c7df76eaa56",
   "metadata": {},
   "outputs": [
    {
     "data": {
      "image/png": "[encoded data removed]",
      "text/plain": [
       "<Figure size 640x480 with 1 Axes>"
      ]
     },
     "metadata": {},
     "output_type": "display_data"
    }
   ],
   "source": [
    "db.embarked.value_counts(normalize=True).plot.pie(autopct=\"%1.1f%%\");"
   ]
  },
  {
   "cell_type": "markdown",
   "id": "2919d343-f896-47d2-b253-a4faa0e9ee41",
   "metadata": {},
   "source": [
    "El 72.5% de pasajeros embarcaron en el puerto de Southhampton, el 18.9% en el puerto de Chesbourg y el 8.6% subieron en el puerto de Queenstown."
   ]
  },
  {
   "cell_type": "markdown",
   "id": "0fc0e64c-3c7c-46fb-ac1d-8ace5b263955",
   "metadata": {},
   "source": [
    "* Variable __\"title\"__"
   ]
  },
  {
   "cell_type": "code",
   "execution_count": 393,
   "id": "1d67ff1e-cfb7-4cd3-a6cc-d6b60f30607d",
   "metadata": {},
   "outputs": [
    {
     "data": {
      "text/plain": [
       "title\n",
       "Mr              517\n",
       "Miss            182\n",
       "Mrs             125\n",
       "Master           40\n",
       "Dr                7\n",
       "Rev               6\n",
       "Mlle              2\n",
       "Major             2\n",
       "Col               2\n",
       "the Countess      1\n",
       "Capt              1\n",
       "Ms                1\n",
       "Sir               1\n",
       "Lady              1\n",
       "Mme               1\n",
       "Don               1\n",
       "Jonkheer          1\n",
       "Name: count, dtype: int64"
      ]
     },
     "execution_count": 393,
     "metadata": {},
     "output_type": "execute_result"
    }
   ],
   "source": [
    "db.title.value_counts()"
   ]
  },
  {
   "cell_type": "code",
   "execution_count": 394,
   "id": "9da7c8bb-3b1d-41ba-99f9-4789c81a5230",
   "metadata": {},
   "outputs": [
    {
     "data": {
      "text/plain": [
       "title\n",
       "Mr              0.580247\n",
       "Miss            0.204265\n",
       "Mrs             0.140292\n",
       "Master          0.044893\n",
       "Dr              0.007856\n",
       "Rev             0.006734\n",
       "Mlle            0.002245\n",
       "Major           0.002245\n",
       "Col             0.002245\n",
       "the Countess    0.001122\n",
       "Capt            0.001122\n",
       "Ms              0.001122\n",
       "Sir             0.001122\n",
       "Lady            0.001122\n",
       "Mme             0.001122\n",
       "Don             0.001122\n",
       "Jonkheer        0.001122\n",
       "Name: proportion, dtype: float64"
      ]
     },
     "execution_count": 394,
     "metadata": {},
     "output_type": "execute_result"
    }
   ],
   "source": [
    "db.title.value_counts(normalize=True)"
   ]
  },
  {
   "cell_type": "code",
   "execution_count": 395,
   "id": "9233b68d-231f-47ec-90c8-21013513f736",
   "metadata": {},
   "outputs": [
    {
     "data": {
      "image/png": "[encoded data removed]",
      "text/plain": [
       "<Figure size 640x480 with 1 Axes>"
      ]
     },
     "metadata": {},
     "output_type": "display_data"
    }
   ],
   "source": [
    "db.title.value_counts(normalize=True).plot.barh(color=\"orange\")\n",
    "plt.show();"
   ]
  },
  {
   "cell_type": "markdown",
   "id": "88feddc7-7272-4787-9d87-ededc8b22264",
   "metadata": {},
   "source": [
    "Según este análisis podemos decir que la mayoría de pasajeros 580 tenía el título de \"señor\", seguido de 182 pasajeras que eran \"señoritas\" y 125 pasajeras que eran \"señoras\", si sumamos los títulos designados a hombres y a mujeres, nos coincide con nuestro dato total de pasajeros."
   ]
  },
  {
   "cell_type": "code",
   "execution_count": null,
   "id": "c3ea48c4-7bfd-408a-8926-ee854882bbf9",
   "metadata": {},
   "outputs": [],
   "source": []
  },
  {
   "cell_type": "markdown",
   "id": "6cc029eb-57f9-42f4-a330-2b68c8d37d52",
   "metadata": {},
   "source": [
    "##### Análisis univariado de variables numéricas"
   ]
  },
  {
   "cell_type": "markdown",
   "id": "fa1f5915-12ea-4c7f-b245-ade68e2c0b73",
   "metadata": {},
   "source": [
    "* Variable __\"age\"__"
   ]
  },
  {
   "cell_type": "code",
   "execution_count": 396,
   "id": "729aa9ca-5b00-4707-bc25-cfab734fe0d6",
   "metadata": {},
   "outputs": [
    {
     "data": {
      "text/plain": [
       "count    891.000000\n",
       "mean      29.361582\n",
       "std       13.019697\n",
       "min        0.420000\n",
       "25%       22.000000\n",
       "50%       28.000000\n",
       "75%       35.000000\n",
       "max       80.000000\n",
       "Name: age, dtype: float64"
      ]
     },
     "execution_count": 396,
     "metadata": {},
     "output_type": "execute_result"
    }
   ],
   "source": [
    "db.age.describe()"
   ]
  },
  {
   "cell_type": "code",
   "execution_count": 397,
   "id": "0955f552-6ad3-44c1-8cd5-3828f076b9a9",
   "metadata": {},
   "outputs": [
    {
     "data": {
      "image/png": "[encoded data removed]",
      "text/plain": [
       "<Figure size 640x480 with 1 Axes>"
      ]
     },
     "metadata": {},
     "output_type": "display_data"
    }
   ],
   "source": [
    "plt.figure(\"age\")\n",
    "sns.histplot(data=db, x=\"age\", kde=True);"
   ]
  },
  {
   "cell_type": "markdown",
   "id": "13308adf-4e29-4aca-b5c5-2f460a3fb9de",
   "metadata": {},
   "source": [
    "Según el gráfico podemos asegurar que la mayoría de pasajeros eran jóvenes de menos de 30 años."
   ]
  },
  {
   "cell_type": "markdown",
   "id": "a2342c81-1ad6-495e-ba32-e414dcc035de",
   "metadata": {},
   "source": [
    "* Variable __\"fare\"__"
   ]
  },
  {
   "cell_type": "code",
   "execution_count": 398,
   "id": "2939bc1f-2d56-4d58-adeb-d6690528aaa0",
   "metadata": {},
   "outputs": [
    {
     "data": {
      "text/plain": [
       "count    891.000000\n",
       "mean      32.204208\n",
       "std       49.693429\n",
       "min        0.000000\n",
       "25%        7.910400\n",
       "50%       14.454200\n",
       "75%       31.000000\n",
       "max      512.329200\n",
       "Name: fare, dtype: float64"
      ]
     },
     "execution_count": 398,
     "metadata": {},
     "output_type": "execute_result"
    }
   ],
   "source": [
    "db.fare.describe()"
   ]
  },
  {
   "cell_type": "code",
   "execution_count": 399,
   "id": "959a2619-498b-4fff-9978-8f9712da7a77",
   "metadata": {},
   "outputs": [
    {
     "data": {
      "image/png": "[encoded data removed]",
      "text/plain": [
       "<Figure size 640x480 with 1 Axes>"
      ]
     },
     "metadata": {},
     "output_type": "display_data"
    }
   ],
   "source": [
    "plt.figure(\"fare\")\n",
    "sns.histplot(data=db, x=\"fare\", kde=True);"
   ]
  },
  {
   "cell_type": "markdown",
   "id": "c91a7129-99f8-4bd0-8835-4a6bfde9e4eb",
   "metadata": {},
   "source": [
    "La distribución de tarifas nos muestra que hay un mayor número de pasajeros que pagaron los billetes más baratos, es decir que viajaban en tercera clase."
   ]
  },
  {
   "cell_type": "code",
   "execution_count": null,
   "id": "1177406a-401e-4f01-b828-45d123d51c40",
   "metadata": {},
   "outputs": [],
   "source": []
  },
  {
   "cell_type": "markdown",
   "id": "c78d4c25-844e-4c1d-bb94-e107812dbf48",
   "metadata": {},
   "source": [
    "### 7) Analizar las posibles interacciones entre las variables del dataset"
   ]
  },
  {
   "cell_type": "markdown",
   "id": "ed95c03f-1d74-4496-bd35-b7d8b44c5096",
   "metadata": {},
   "source": [
    "##### Análisis bivariado entre variables categóricas"
   ]
  },
  {
   "cell_type": "code",
   "execution_count": 400,
   "id": "25809458-5134-4005-8ded-af064e8412a5",
   "metadata": {},
   "outputs": [
    {
     "data": {
      "image/png": "[encoded data removed]",
      "text/plain": [
       "<Figure size 500x500 with 1 Axes>"
      ]
     },
     "metadata": {},
     "output_type": "display_data"
    }
   ],
   "source": [
    "db.groupby(\"sex\")[\"survived\"].mean()\n",
    "sns.catplot(x = \"sex\", y = \"survived\", data = db, kind=\"bar\", ci= None, palette=\"colorblind\", width=0.5)\n",
    "plt.show()"
   ]
  },
  {
   "cell_type": "markdown",
   "id": "7187f39c-9eb6-4074-992c-5c61050ba574",
   "metadata": {},
   "source": [
    "Al relacionar la variable \"sex\" con la variable objetivo \"survived\", vemos que la mayoría de pasajeros que se salvaron de morir fueron mujeres, aproximadamente un 75% frente al aprox 20% de hombres que se salvaron. Lo que nos lleva a afirmar que el sexo es una variable influyente en nuestra variable objetivo."
   ]
  },
  {
   "cell_type": "code",
   "execution_count": null,
   "id": "60b9e7b2-833c-4d86-99c0-182f05a0d8ca",
   "metadata": {},
   "outputs": [],
   "source": []
  },
  {
   "cell_type": "code",
   "execution_count": 401,
   "id": "e0d6b220-5ed9-4b1a-949b-6a5432303727",
   "metadata": {},
   "outputs": [
    {
     "data": {
      "image/png": "[encoded data removed]",
      "text/plain": [
       "<Figure size 500x500 with 1 Axes>"
      ]
     },
     "metadata": {},
     "output_type": "display_data"
    }
   ],
   "source": [
    "db.groupby(\"pclass\")[\"survived\"].mean()\n",
    "sns.catplot(x = \"pclass\", y = \"survived\", data = db, kind=\"bar\", ci= None, palette=\"colorblind\", width=0.5)\n",
    "plt.show()"
   ]
  },
  {
   "cell_type": "markdown",
   "id": "02b4c07e-271c-49ff-b07c-50d3a5f346b3",
   "metadata": {},
   "source": [
    "En este gráfico podemos apreciar que los pasajeros de la primera clase fueron los que más probabilidades de sobrevivir tuvieron, opuesto a los pasajeros de tercera clase que fueron los que menos probabilidades de sobrevivir tuvieron. Por lo tanto, sí es determinante esta variable para nuestra variable objetivo."
   ]
  },
  {
   "cell_type": "code",
   "execution_count": null,
   "id": "9e3da5e2-5e4d-4099-9b40-4010285175be",
   "metadata": {},
   "outputs": [],
   "source": []
  },
  {
   "cell_type": "code",
   "execution_count": 402,
   "id": "63857d81-a0ca-4345-bf18-b3e5e0047b66",
   "metadata": {},
   "outputs": [
    {
     "data": {
      "image/png": "[encoded data removed]",
      "text/plain": [
       "<Figure size 500x500 with 1 Axes>"
      ]
     },
     "metadata": {},
     "output_type": "display_data"
    }
   ],
   "source": [
    "db.groupby(\"sibsp\")[\"survived\"].mean()\n",
    "sns.catplot(x = \"sibsp\", y = \"survived\", data = db, kind=\"bar\", ci= None, palette=\"colorblind\", width=0.5)\n",
    "plt.show()"
   ]
  },
  {
   "cell_type": "markdown",
   "id": "016363ba-59bb-4ec0-8cf0-656c5131219e",
   "metadata": {},
   "source": [
    "Según este gráfico, los pasajeros que viajaban con 1 cónyuge o hermano y 2 hermanos tuvieron más probabilidades de sobrevivir que los que viajaban solos o los que tenían familia más numerosa."
   ]
  },
  {
   "cell_type": "code",
   "execution_count": null,
   "id": "847d1d31-95ad-49bd-9e71-f57d79b2dc86",
   "metadata": {},
   "outputs": [],
   "source": []
  },
  {
   "cell_type": "code",
   "execution_count": 403,
   "id": "65c4892f-dd71-4ade-9848-6c0b79305e62",
   "metadata": {},
   "outputs": [
    {
     "data": {
      "image/png": "[encoded data removed]",
      "text/plain": [
       "<Figure size 500x500 with 1 Axes>"
      ]
     },
     "metadata": {},
     "output_type": "display_data"
    }
   ],
   "source": [
    "db.groupby(\"parch\")[\"survived\"].mean()\n",
    "sns.catplot(x = \"parch\", y = \"survived\", data = db, kind=\"bar\", ci= None, palette=\"colorblind\", width=0.5)\n",
    "plt.show()"
   ]
  },
  {
   "cell_type": "markdown",
   "id": "9fc084ac-d84d-4d22-915b-2787ccdc7ac7",
   "metadata": {},
   "source": [
    "Al igual que en la variable anterior, aquí los pasajeros que tenían entre 1 y 2 padres o hijos y 3 hijos tuvieron más probabilidades de supervivencia, frente a los que viajaban solos. Esto quizás fue por que se determinó que los niños fuesen los primeros en subir a los botes salvavidas; sin embargo vemos, nuevamente, como familias numerosas no tuvieron las mismas posibilidades de salvarse."
   ]
  },
  {
   "cell_type": "code",
   "execution_count": null,
   "id": "363e7b17-3371-4287-91d8-7bca710da1bb",
   "metadata": {},
   "outputs": [],
   "source": []
  },
  {
   "cell_type": "code",
   "execution_count": 404,
   "id": "b5a8b8d7-ba1a-424e-9e2d-4de53ae9fce3",
   "metadata": {},
   "outputs": [
    {
     "data": {
      "image/png": "[encoded data removed]",
      "text/plain": [
       "<Figure size 500x500 with 1 Axes>"
      ]
     },
     "metadata": {},
     "output_type": "display_data"
    }
   ],
   "source": [
    "db.groupby(\"embarked\")[\"survived\"].mean()\n",
    "sns.catplot(x = \"embarked\", y = \"survived\", data = db, kind=\"bar\", ci= None, palette=\"colorblind\", width=0.5)\n",
    "plt.show()"
   ]
  },
  {
   "cell_type": "markdown",
   "id": "43b00daa-84f4-4745-886f-83d214eaf47e",
   "metadata": {},
   "source": [
    "En este análisis podemos apreciar que los pasajeros que embarcaron en el puerto de Chesbourg fueron los que tuvieron mayor probababilidad de supervivencia, en contraposición con los que embarcaron en Southampton que fueron los que más perecieron."
   ]
  },
  {
   "cell_type": "code",
   "execution_count": null,
   "id": "2d9e5277-4c4d-44a6-8f74-daf7227ff8bb",
   "metadata": {},
   "outputs": [],
   "source": []
  },
  {
   "cell_type": "code",
   "execution_count": 405,
   "id": "416b23db-a70c-4e63-bf42-f1e280695941",
   "metadata": {},
   "outputs": [
    {
     "data": {
      "image/png": "[encoded data removed]",
      "text/plain": [
       "<Figure size 500x500 with 1 Axes>"
      ]
     },
     "metadata": {},
     "output_type": "display_data"
    }
   ],
   "source": [
    "db.groupby(\"title\")[\"survived\"].mean()\n",
    "sns.catplot(x = \"survived\", y = \"title\", data = db, kind=\"bar\", ci= None, palette=\"colorblind\")\n",
    "plt.show()"
   ]
  },
  {
   "cell_type": "markdown",
   "id": "4a549438-98aa-429e-8320-c1b832ab7149",
   "metadata": {},
   "source": [
    "El análisis de esta variable \"title\" es muy especial, pues no sólo nos revela que las mujeres tuvieron más probabilidad de sobrevivir sino que también nos muestra la cruda realidad que los pasajeros que más dinero tenían y/o los que poseían títulos nobiliarios fueron a los que se priorizaron para poder abandonar el barco y poder subir a los botes salvavidas. Es de curiosidad apreciar que los sacerdotes permanecieron en el barco hasta el final, posiblemente acompañando moralmente a los que no iban a poder sobrevivir. Aquí también podemos afirmar la frase: \"el capitán se hunde con su barco\", puesto que el capitán también zozobró."
   ]
  },
  {
   "cell_type": "code",
   "execution_count": null,
   "id": "439f5102-80a7-46a6-8f16-81d170315ed7",
   "metadata": {},
   "outputs": [],
   "source": []
  },
  {
   "cell_type": "markdown",
   "id": "4f91f8aa-87ff-4cb5-b872-026834883a95",
   "metadata": {},
   "source": [
    "##### Análisis bivariado de variables numéricas"
   ]
  },
  {
   "cell_type": "code",
   "execution_count": 406,
   "id": "bea30c31-7c5c-4a10-b3b1-7e66d2e3953c",
   "metadata": {},
   "outputs": [
    {
     "data": {
      "image/png": "[encoded data removed]",
      "text/plain": [
       "<Figure size 640x480 with 1 Axes>"
      ]
     },
     "metadata": {},
     "output_type": "display_data"
    }
   ],
   "source": [
    "# analizamos \"age\" y \"fare\"\n",
    "db. plot.scatter(x=\"age\", y=\"fare\")\n",
    "plt.show()"
   ]
  },
  {
   "cell_type": "markdown",
   "id": "f1194f5f-42f5-43b9-80d4-9fca8a848d22",
   "metadata": {},
   "source": [
    "En este gráfico \"fare\" vs \"age\" podemos apreciar que la mayoría de pasajeros de mediana edad pagaron los billetes más baratos y sólo algunos pasajeros pagaron los billetes más caros."
   ]
  },
  {
   "cell_type": "code",
   "execution_count": 407,
   "id": "8cb7ed7b-810c-4bcb-bc49-bf085fc900d2",
   "metadata": {},
   "outputs": [
    {
     "data": {
      "image/png": "[encoded data removed]",
      "text/plain": [
       "<Figure size 500x500 with 6 Axes>"
      ]
     },
     "metadata": {},
     "output_type": "display_data"
    }
   ],
   "source": [
    "# también podemos graficarlas en Seaborn\n",
    "sns.pairplot(data=db, vars=[\"age\", \"fare\"])\n",
    "plt.show()"
   ]
  },
  {
   "cell_type": "markdown",
   "id": "7fb278c9-892d-43b4-9f5c-c5ea80f3fb19",
   "metadata": {},
   "source": [
    "Ahora graficamos una matriz de correlación para poder ver la interacción de más variables entre sí y su relevancia, para lo cual sólo vamos a escoger las variables que tengan atributos numéricos, no importa si son categóricas"
   ]
  },
  {
   "cell_type": "code",
   "execution_count": 408,
   "id": "3681ae2e-883a-4b5f-a781-17d11b3bf724",
   "metadata": {},
   "outputs": [
    {
     "data": {
      "text/html": [
       "<div>\n",
       "<style scoped>\n",
       "    .dataframe tbody tr th:only-of-type {\n",
       "        vertical-align: middle;\n",
       "    }\n",
       "\n",
       "    .dataframe tbody tr th {\n",
       "        vertical-align: top;\n",
       "    }\n",
       "\n",
       "    .dataframe thead th {\n",
       "        text-align: right;\n",
       "    }\n",
       "</style>\n",
       "<table border=\"1\" class=\"dataframe\">\n",
       "  <thead>\n",
       "    <tr style=\"text-align: right;\">\n",
       "      <th></th>\n",
       "      <th>survived</th>\n",
       "      <th>pclass</th>\n",
       "      <th>sex</th>\n",
       "      <th>age</th>\n",
       "      <th>sibsp</th>\n",
       "      <th>parch</th>\n",
       "      <th>fare</th>\n",
       "      <th>embarked</th>\n",
       "      <th>title</th>\n",
       "      <th>full_name</th>\n",
       "    </tr>\n",
       "    <tr>\n",
       "      <th>PassengerId</th>\n",
       "      <th></th>\n",
       "      <th></th>\n",
       "      <th></th>\n",
       "      <th></th>\n",
       "      <th></th>\n",
       "      <th></th>\n",
       "      <th></th>\n",
       "      <th></th>\n",
       "      <th></th>\n",
       "      <th></th>\n",
       "    </tr>\n",
       "  </thead>\n",
       "  <tbody>\n",
       "    <tr>\n",
       "      <th>1</th>\n",
       "      <td>0</td>\n",
       "      <td>3</td>\n",
       "      <td>male</td>\n",
       "      <td>22.0</td>\n",
       "      <td>1</td>\n",
       "      <td>0</td>\n",
       "      <td>7.2500</td>\n",
       "      <td>S</td>\n",
       "      <td>Mr</td>\n",
       "      <td>Braund Owen Harris</td>\n",
       "    </tr>\n",
       "    <tr>\n",
       "      <th>2</th>\n",
       "      <td>1</td>\n",
       "      <td>1</td>\n",
       "      <td>female</td>\n",
       "      <td>38.0</td>\n",
       "      <td>1</td>\n",
       "      <td>0</td>\n",
       "      <td>71.2833</td>\n",
       "      <td>C</td>\n",
       "      <td>Mrs</td>\n",
       "      <td>Cumings John Bradley (Florence Briggs Thayer)</td>\n",
       "    </tr>\n",
       "    <tr>\n",
       "      <th>3</th>\n",
       "      <td>1</td>\n",
       "      <td>3</td>\n",
       "      <td>female</td>\n",
       "      <td>26.0</td>\n",
       "      <td>0</td>\n",
       "      <td>0</td>\n",
       "      <td>7.9250</td>\n",
       "      <td>S</td>\n",
       "      <td>Miss</td>\n",
       "      <td>Heikkinen Laina</td>\n",
       "    </tr>\n",
       "    <tr>\n",
       "      <th>4</th>\n",
       "      <td>1</td>\n",
       "      <td>1</td>\n",
       "      <td>female</td>\n",
       "      <td>35.0</td>\n",
       "      <td>1</td>\n",
       "      <td>0</td>\n",
       "      <td>53.1000</td>\n",
       "      <td>S</td>\n",
       "      <td>Mrs</td>\n",
       "      <td>Futrelle Jacques Heath (Lily May Peel)</td>\n",
       "    </tr>\n",
       "    <tr>\n",
       "      <th>5</th>\n",
       "      <td>0</td>\n",
       "      <td>3</td>\n",
       "      <td>male</td>\n",
       "      <td>35.0</td>\n",
       "      <td>0</td>\n",
       "      <td>0</td>\n",
       "      <td>8.0500</td>\n",
       "      <td>S</td>\n",
       "      <td>Mr</td>\n",
       "      <td>Allen William Henry</td>\n",
       "    </tr>\n",
       "    <tr>\n",
       "      <th>6</th>\n",
       "      <td>0</td>\n",
       "      <td>3</td>\n",
       "      <td>male</td>\n",
       "      <td>28.0</td>\n",
       "      <td>0</td>\n",
       "      <td>0</td>\n",
       "      <td>8.4583</td>\n",
       "      <td>Q</td>\n",
       "      <td>Mr</td>\n",
       "      <td>Moran James</td>\n",
       "    </tr>\n",
       "    <tr>\n",
       "      <th>7</th>\n",
       "      <td>0</td>\n",
       "      <td>1</td>\n",
       "      <td>male</td>\n",
       "      <td>54.0</td>\n",
       "      <td>0</td>\n",
       "      <td>0</td>\n",
       "      <td>51.8625</td>\n",
       "      <td>S</td>\n",
       "      <td>Mr</td>\n",
       "      <td>McCarthy Timothy J</td>\n",
       "    </tr>\n",
       "    <tr>\n",
       "      <th>8</th>\n",
       "      <td>0</td>\n",
       "      <td>3</td>\n",
       "      <td>male</td>\n",
       "      <td>2.0</td>\n",
       "      <td>3</td>\n",
       "      <td>1</td>\n",
       "      <td>21.0750</td>\n",
       "      <td>S</td>\n",
       "      <td>Master</td>\n",
       "      <td>Palsson Gosta Leonard</td>\n",
       "    </tr>\n",
       "    <tr>\n",
       "      <th>9</th>\n",
       "      <td>1</td>\n",
       "      <td>3</td>\n",
       "      <td>female</td>\n",
       "      <td>27.0</td>\n",
       "      <td>0</td>\n",
       "      <td>2</td>\n",
       "      <td>11.1333</td>\n",
       "      <td>S</td>\n",
       "      <td>Mrs</td>\n",
       "      <td>Johnson Oscar W (Elisabeth Vilhelmina Berg)</td>\n",
       "    </tr>\n",
       "    <tr>\n",
       "      <th>10</th>\n",
       "      <td>1</td>\n",
       "      <td>2</td>\n",
       "      <td>female</td>\n",
       "      <td>14.0</td>\n",
       "      <td>1</td>\n",
       "      <td>0</td>\n",
       "      <td>30.0708</td>\n",
       "      <td>C</td>\n",
       "      <td>Mrs</td>\n",
       "      <td>Nasser Nicholas (Adele Achem)</td>\n",
       "    </tr>\n",
       "  </tbody>\n",
       "</table>\n",
       "</div>"
      ],
      "text/plain": [
       "             survived  pclass     sex   age  sibsp  parch     fare embarked  \\\n",
       "PassengerId                                                                   \n",
       "1                   0       3    male  22.0      1      0   7.2500        S   \n",
       "2                   1       1  female  38.0      1      0  71.2833        C   \n",
       "3                   1       3  female  26.0      0      0   7.9250        S   \n",
       "4                   1       1  female  35.0      1      0  53.1000        S   \n",
       "5                   0       3    male  35.0      0      0   8.0500        S   \n",
       "6                   0       3    male  28.0      0      0   8.4583        Q   \n",
       "7                   0       1    male  54.0      0      0  51.8625        S   \n",
       "8                   0       3    male   2.0      3      1  21.0750        S   \n",
       "9                   1       3  female  27.0      0      2  11.1333        S   \n",
       "10                  1       2  female  14.0      1      0  30.0708        C   \n",
       "\n",
       "              title                                      full_name  \n",
       "PassengerId                                                         \n",
       "1                Mr                             Braund Owen Harris  \n",
       "2               Mrs  Cumings John Bradley (Florence Briggs Thayer)  \n",
       "3              Miss                                Heikkinen Laina  \n",
       "4               Mrs         Futrelle Jacques Heath (Lily May Peel)  \n",
       "5                Mr                            Allen William Henry  \n",
       "6                Mr                                    Moran James  \n",
       "7                Mr                             McCarthy Timothy J  \n",
       "8            Master                          Palsson Gosta Leonard  \n",
       "9               Mrs    Johnson Oscar W (Elisabeth Vilhelmina Berg)  \n",
       "10              Mrs                  Nasser Nicholas (Adele Achem)  "
      ]
     },
     "execution_count": 408,
     "metadata": {},
     "output_type": "execute_result"
    }
   ],
   "source": [
    "# recordamos nuestro dataset\n",
    "db.head(10)"
   ]
  },
  {
   "cell_type": "code",
   "execution_count": 409,
   "id": "9edb7996-3100-4b28-880f-966b6d1df9b2",
   "metadata": {},
   "outputs": [],
   "source": [
    "# creamos una matriz de correlación sólo de las variables que tengan números como datos\n",
    "db_number = db.select_dtypes(include=['number'])\n",
    "corr_matrix = db_number.corr()"
   ]
  },
  {
   "cell_type": "code",
   "execution_count": 410,
   "id": "a25d40a5-0b96-4323-ae07-f653f443bd35",
   "metadata": {},
   "outputs": [
    {
     "data": {
      "text/html": [
       "<div>\n",
       "<style scoped>\n",
       "    .dataframe tbody tr th:only-of-type {\n",
       "        vertical-align: middle;\n",
       "    }\n",
       "\n",
       "    .dataframe tbody tr th {\n",
       "        vertical-align: top;\n",
       "    }\n",
       "\n",
       "    .dataframe thead th {\n",
       "        text-align: right;\n",
       "    }\n",
       "</style>\n",
       "<table border=\"1\" class=\"dataframe\">\n",
       "  <thead>\n",
       "    <tr style=\"text-align: right;\">\n",
       "      <th></th>\n",
       "      <th>survived</th>\n",
       "      <th>pclass</th>\n",
       "      <th>age</th>\n",
       "      <th>sibsp</th>\n",
       "      <th>parch</th>\n",
       "      <th>fare</th>\n",
       "    </tr>\n",
       "  </thead>\n",
       "  <tbody>\n",
       "    <tr>\n",
       "      <th>survived</th>\n",
       "      <td>1.000000</td>\n",
       "      <td>-0.338481</td>\n",
       "      <td>-0.064910</td>\n",
       "      <td>-0.035322</td>\n",
       "      <td>0.081629</td>\n",
       "      <td>0.257307</td>\n",
       "    </tr>\n",
       "    <tr>\n",
       "      <th>pclass</th>\n",
       "      <td>-0.338481</td>\n",
       "      <td>1.000000</td>\n",
       "      <td>-0.339898</td>\n",
       "      <td>0.083081</td>\n",
       "      <td>0.018443</td>\n",
       "      <td>-0.549500</td>\n",
       "    </tr>\n",
       "    <tr>\n",
       "      <th>age</th>\n",
       "      <td>-0.064910</td>\n",
       "      <td>-0.339898</td>\n",
       "      <td>1.000000</td>\n",
       "      <td>-0.233296</td>\n",
       "      <td>-0.172482</td>\n",
       "      <td>0.096688</td>\n",
       "    </tr>\n",
       "    <tr>\n",
       "      <th>sibsp</th>\n",
       "      <td>-0.035322</td>\n",
       "      <td>0.083081</td>\n",
       "      <td>-0.233296</td>\n",
       "      <td>1.000000</td>\n",
       "      <td>0.414838</td>\n",
       "      <td>0.159651</td>\n",
       "    </tr>\n",
       "    <tr>\n",
       "      <th>parch</th>\n",
       "      <td>0.081629</td>\n",
       "      <td>0.018443</td>\n",
       "      <td>-0.172482</td>\n",
       "      <td>0.414838</td>\n",
       "      <td>1.000000</td>\n",
       "      <td>0.216225</td>\n",
       "    </tr>\n",
       "    <tr>\n",
       "      <th>fare</th>\n",
       "      <td>0.257307</td>\n",
       "      <td>-0.549500</td>\n",
       "      <td>0.096688</td>\n",
       "      <td>0.159651</td>\n",
       "      <td>0.216225</td>\n",
       "      <td>1.000000</td>\n",
       "    </tr>\n",
       "  </tbody>\n",
       "</table>\n",
       "</div>"
      ],
      "text/plain": [
       "          survived    pclass       age     sibsp     parch      fare\n",
       "survived  1.000000 -0.338481 -0.064910 -0.035322  0.081629  0.257307\n",
       "pclass   -0.338481  1.000000 -0.339898  0.083081  0.018443 -0.549500\n",
       "age      -0.064910 -0.339898  1.000000 -0.233296 -0.172482  0.096688\n",
       "sibsp    -0.035322  0.083081 -0.233296  1.000000  0.414838  0.159651\n",
       "parch     0.081629  0.018443 -0.172482  0.414838  1.000000  0.216225\n",
       "fare      0.257307 -0.549500  0.096688  0.159651  0.216225  1.000000"
      ]
     },
     "execution_count": 410,
     "metadata": {},
     "output_type": "execute_result"
    }
   ],
   "source": [
    "corr_matrix"
   ]
  },
  {
   "cell_type": "code",
   "execution_count": 411,
   "id": "26a9a9ac-dfe9-4853-878b-10f0d6a236d5",
   "metadata": {},
   "outputs": [
    {
     "data": {
      "image/png": "[encoded data removed]",
      "text/plain": [
       "<Figure size 800x600 with 2 Axes>"
      ]
     },
     "metadata": {},
     "output_type": "display_data"
    }
   ],
   "source": [
    "plt.figure(figsize=(8, 6))\n",
    "sns.heatmap(corr_matrix, annot=True, cmap= \"PiYG\", vmin=-1, vmax=1)\n",
    "plt.title(\"Heatmap de correlaciones entre variables numéricas y survived\")\n",
    "plt.show()"
   ]
  },
  {
   "cell_type": "markdown",
   "id": "b3ecb4cd-41a8-45d0-89c2-1ab714da87d0",
   "metadata": {},
   "source": [
    "según nuestro heatmap podemos apreciar que la variable \"survived\":\n",
    "* Está positivamente relacionada con la variable \"fare\" 0.26: es decir los pasajeros que pagaron tarifas más altas tuvieron tasas de supervivencia más altas.\n",
    "* Está negativamente relacionada con la variable \"pclass\" -0,34: es decir los pasajeros de clase baja, (cuyo valor de pclass es mayor) tuvieron tasas de supervivencia más bajas.\n",
    "* Tiene correlación positiva débil con \"parch\" 0.082: se podría decir que los pasajeros con algunos padres/hijos a bordo también tienen una probabilidad ligeramente mayor de supervivencia.\n",
    "* Tiene correlación negativa débil con \"sibsp\" -0.035: se podría decir que tener más hermanos/cónyuge a bordo tiene una probabilidad ligeramente menor de supervivencia.\n",
    "* Tiene correlación negativa con \"age\" -0.065: también se podría decir que a más edad tuviese el pasajero, menor probabilidad de sobrevivir tenía, aunque no es en sí tan proporcional.  \n"
   ]
  },
  {
   "cell_type": "markdown",
   "id": "77a9ae0a-20f8-44bf-8cea-523759f0b8a6",
   "metadata": {},
   "source": [
    "##### Relaciones entre variables numéricas y categóricas"
   ]
  },
  {
   "cell_type": "markdown",
   "id": "955ef762-2b9b-4775-8b48-21f2fb12ab42",
   "metadata": {},
   "source": [
    "básicamente analizaremos las variables \"age\"y \"fare\" relativas a \"survived\""
   ]
  },
  {
   "cell_type": "code",
   "execution_count": 413,
   "id": "cc88cb4d-5f59-4d71-b8e2-18b80bf995fd",
   "metadata": {},
   "outputs": [
    {
     "data": {
      "text/plain": [
       "survived\n",
       "0    30.028233\n",
       "1    28.291433\n",
       "Name: age, dtype: float64"
      ]
     },
     "execution_count": 413,
     "metadata": {},
     "output_type": "execute_result"
    }
   ],
   "source": [
    "db.groupby(\"survived\")[\"age\"].mean()"
   ]
  },
  {
   "cell_type": "code",
   "execution_count": 414,
   "id": "ea4313c0-a8d4-4ebf-8a5c-6586f7ab0e99",
   "metadata": {},
   "outputs": [
    {
     "data": {
      "text/plain": [
       "survived\n",
       "0    28.0\n",
       "1    28.0\n",
       "Name: age, dtype: float64"
      ]
     },
     "execution_count": 414,
     "metadata": {},
     "output_type": "execute_result"
    }
   ],
   "source": [
    "db.groupby(\"survived\")[\"age\"].median()"
   ]
  },
  {
   "cell_type": "code",
   "execution_count": 415,
   "id": "b5293342-307b-4b64-9186-d93a762cdb54",
   "metadata": {},
   "outputs": [
    {
     "data": {
      "image/png": "[encoded data removed]",
      "text/plain": [
       "<Figure size 640x480 with 1 Axes>"
      ]
     },
     "metadata": {},
     "output_type": "display_data"
    }
   ],
   "source": [
    "sns.boxplot(x=db.survived, y=db.age, palette=\"colorblind\")\n",
    "plt.show()"
   ]
  },
  {
   "cell_type": "markdown",
   "id": "398cfa79-c7a1-4eb2-841e-436fade222c5",
   "metadata": {},
   "source": [
    "es cuando hacemos este tipo de boxplot que podemos visualizar realmente el conjunto de datos, vemos claramente que muchos pasajeros que sobrevivieron tuvieron edades menores a 20 años y también mayores de 40 años, algo similar puede apreciar en las edades de los pasajeros que murieron, sin embargo aquí también podemos apreciar que muchos niños y más ancianos perecieron."
   ]
  },
  {
   "cell_type": "code",
   "execution_count": null,
   "id": "f3b74648-60c5-4405-a714-c986104bf84e",
   "metadata": {},
   "outputs": [],
   "source": []
  },
  {
   "cell_type": "code",
   "execution_count": 417,
   "id": "231469a6-0110-477b-896d-55904347ea27",
   "metadata": {},
   "outputs": [
    {
     "data": {
      "text/plain": [
       "survived\n",
       "0    22.117887\n",
       "1    48.395408\n",
       "Name: fare, dtype: float64"
      ]
     },
     "execution_count": 417,
     "metadata": {},
     "output_type": "execute_result"
    }
   ],
   "source": [
    "db.groupby(\"survived\")[\"fare\"].mean()"
   ]
  },
  {
   "cell_type": "code",
   "execution_count": 418,
   "id": "d77ae6d3-8100-4840-bd46-13f6380f1489",
   "metadata": {},
   "outputs": [
    {
     "data": {
      "text/plain": [
       "survived\n",
       "0    10.5\n",
       "1    26.0\n",
       "Name: fare, dtype: float64"
      ]
     },
     "execution_count": 418,
     "metadata": {},
     "output_type": "execute_result"
    }
   ],
   "source": [
    "db.groupby(\"survived\")[\"fare\"].median()"
   ]
  },
  {
   "cell_type": "code",
   "execution_count": 419,
   "id": "27781d21-b326-43a2-8499-901bc16868df",
   "metadata": {},
   "outputs": [
    {
     "data": {
      "image/png": "[encoded data removed]",
      "text/plain": [
       "<Figure size 640x480 with 1 Axes>"
      ]
     },
     "metadata": {},
     "output_type": "display_data"
    }
   ],
   "source": [
    "sns.violinplot(x=db.survived, y=db.fare, palette=\"colorblind\")\n",
    "plt.show()"
   ]
  },
  {
   "cell_type": "markdown",
   "id": "963f2b1e-faae-4866-8b75-fa72728a5a9e",
   "metadata": {},
   "source": [
    "según nuestros datos y este gráfico de violin podemos afirmar que hubieron pasajeros que pagaron billetes por encima de su valor y estos sí tuvieron altas probabilidades de supervivencia, aunque la mayoría de supervivientes fueron los pasajeros que pagaron un precio medio."
   ]
  },
  {
   "cell_type": "markdown",
   "id": "fcea4909-d204-45c4-9f54-f45263243268",
   "metadata": {},
   "source": [
    "##### Análisis Multivariado"
   ]
  },
  {
   "cell_type": "markdown",
   "id": "7465aef5-cfca-430a-9ae6-d06cfef78888",
   "metadata": {},
   "source": [
    "De acuerdo a nuestro análisis apreciamos que las variables \"pclass\", \"sex\" y \"fare\", incluso \"age\" son las más determinantes para nuestra variable \"survived\", vamos a hacer algunas interacciones entre ellas."
   ]
  },
  {
   "cell_type": "code",
   "execution_count": 452,
   "id": "acbaed6d-e327-4192-990e-fa510345b10c",
   "metadata": {},
   "outputs": [
    {
     "name": "stdout",
     "output_type": "stream",
     "text": [
      "sex       female      male\n",
      "pclass                    \n",
      "1       0.968085  0.368852\n",
      "2       0.921053  0.157407\n",
      "3       0.500000  0.135447\n"
     ]
    }
   ],
   "source": [
    "tabla1 = pd.pivot_table(db,index=\"pclass\",columns=\"sex\",values=\"survived\")\n",
    "print(tabla1)"
   ]
  },
  {
   "cell_type": "code",
   "execution_count": 517,
   "id": "57e6250d-ed78-4e79-a7cd-3bd4ef1431ae",
   "metadata": {},
   "outputs": [
    {
     "data": {
      "image/png": "[encoded data removed]",
      "text/plain": [
       "<Figure size 600x400 with 2 Axes>"
      ]
     },
     "metadata": {},
     "output_type": "display_data"
    }
   ],
   "source": [
    "plt.figure(figsize=(6, 4))\n",
    "sns.heatmap(data=tabla1, annot=True, cmap=\"Greens\", fmt=\"g\")\n",
    "plt.title(\"tabla1\")\n",
    "plt.show()"
   ]
  },
  {
   "cell_type": "markdown",
   "id": "679be5d0-3dcf-48f1-9a2f-881105ab1282",
   "metadata": {},
   "source": [
    "La tabla1 nos muestra que el promedio del porcentaje de mujeres supervivientes en la primera clase 96% fue mayor que en la tercera clase 50% y que notoriamente fue superior al promedio del porcentaje de hombres que se salvaron."
   ]
  },
  {
   "cell_type": "code",
   "execution_count": null,
   "id": "f4850759-3c09-4807-9f31-b98930a76b94",
   "metadata": {},
   "outputs": [],
   "source": []
  },
  {
   "cell_type": "code",
   "execution_count": 432,
   "id": "54485f36-6d70-4f4e-aea1-d9c297dff927",
   "metadata": {},
   "outputs": [
    {
     "name": "stdout",
     "output_type": "stream",
     "text": [
      "survived          0          1\n",
      "sex                           \n",
      "female    25.666667  28.716738\n",
      "male      30.783120  27.382294\n"
     ]
    }
   ],
   "source": [
    "tabla2 = pd.pivot_table(db, index=\"sex\", columns=\"survived\", values=\"age\")\n",
    "print(tabla2)"
   ]
  },
  {
   "cell_type": "code",
   "execution_count": 516,
   "id": "1c704f86-ae0d-4484-baf1-8ea89effd23d",
   "metadata": {},
   "outputs": [
    {
     "data": {
      "image/png": "[encoded data removed]",
      "text/plain": [
       "<Figure size 600x300 with 2 Axes>"
      ]
     },
     "metadata": {},
     "output_type": "display_data"
    }
   ],
   "source": [
    "plt.figure(figsize=(6, 3))\n",
    "sns.heatmap(data=tabla2, annot=True, cmap=\"Reds\", fmt=\"g\")\n",
    "plt.title(\"tabla2\")\n",
    "plt.show()"
   ]
  },
  {
   "cell_type": "markdown",
   "id": "116ca3e0-5621-460a-9170-d7e7b791390e",
   "metadata": {},
   "source": [
    "La tabla2 nos muestra que la edad promedio de las mujeres y hombres que sobrevivieron fue de 28 y 27 años respectivamente, cifras no tan alejadas de las de las mujeres y hombres que perecieron (25 y 30 respectivamente)."
   ]
  },
  {
   "cell_type": "code",
   "execution_count": null,
   "id": "e71b598a-fccd-4d9e-843f-b2db0a3e70e2",
   "metadata": {},
   "outputs": [],
   "source": []
  },
  {
   "cell_type": "code",
   "execution_count": 450,
   "id": "3c2a17e7-1952-4a77-a373-07def9ef3472",
   "metadata": {},
   "outputs": [
    {
     "name": "stdout",
     "output_type": "stream",
     "text": [
      "pclass           1          2          3\n",
      "sex                                     \n",
      "female  106.125798  21.970121  16.118810\n",
      "male     67.226127  19.741782  12.661633\n"
     ]
    }
   ],
   "source": [
    "tabla3 = pd.pivot_table(db, index=\"sex\", columns=\"pclass\", values=\"fare\")\n",
    "print(tabla3)"
   ]
  },
  {
   "cell_type": "code",
   "execution_count": 515,
   "id": "b5a3bf4e-17a5-4e47-b96e-d018b8421243",
   "metadata": {},
   "outputs": [
    {
     "data": {
      "image/png": "[encoded data removed]",
      "text/plain": [
       "<Figure size 600x300 with 2 Axes>"
      ]
     },
     "metadata": {},
     "output_type": "display_data"
    }
   ],
   "source": [
    "plt.figure(figsize=(6, 3))\n",
    "sns.heatmap(data=tabla3, annot=True, cmap=\"YlOrBr\", fmt=\"g\")\n",
    "plt.title(\"tabla3\")\n",
    "plt.show()"
   ]
  },
  {
   "cell_type": "markdown",
   "id": "e45601f1-1a56-4959-b66b-113541563f9b",
   "metadata": {},
   "source": [
    "La tabla3 nos muestra, a su vez, que la tarifa promedio pagada por las mujeres en todas las clases fue superior a la de los hombres, siendo la tarifa promedio de las mujeres de primera clase muy superior que la de los hombres de la misma primera clase. Esto nos lleva a confirmar los datos de supervivencia superiores de mujeres ricas y/o con títulos nobiliarios. "
   ]
  },
  {
   "cell_type": "markdown",
   "id": "6020d3a2-570f-4194-baf4-68dc5539ce96",
   "metadata": {},
   "source": [
    "Para obtener una imagen más clara de la relación entre el sexo y la supervivencia, consideramos que se debería usar un modelo estadístico que pueda manejar variables categóricas y sus interacciones con otras variables, como la regresión logística."
   ]
  },
  {
   "cell_type": "code",
   "execution_count": null,
   "id": "5054467c-244d-41fa-a311-ed96b93f9610",
   "metadata": {},
   "outputs": [],
   "source": []
  },
  {
   "cell_type": "markdown",
   "id": "603c387b-dee0-40fa-9d6e-213a420ca351",
   "metadata": {},
   "source": [
    "### 8) Modelado simple para estudio de viabilidad de proyecto¶"
   ]
  },
  {
   "cell_type": "markdown",
   "id": "3caa77c2-d04d-4d94-b03f-87df581537b1",
   "metadata": {},
   "source": [
    "Aquí vamos a entrenar el modelo usando un porcentaje de los datos que disponemos y lo validaremos utilizando otro porcentaje complementario de datos, aplicando un modelo de regresión logística para predecir el resultado de nuestra variable \"survived\", a partir de algunas de las variables independientes."
   ]
  },
  {
   "cell_type": "code",
   "execution_count": 518,
   "id": "634c9f93-9b17-45ca-b174-14d06b31f7cb",
   "metadata": {},
   "outputs": [],
   "source": [
    "# importamos nuestros modelos de machine learning\n",
    "from sklearn.model_selection import train_test_split\n",
    "from sklearn.linear_model import LogisticRegression\n",
    "from sklearn.preprocessing import LabelEncoder"
   ]
  },
  {
   "cell_type": "code",
   "execution_count": 519,
   "id": "0099bc40-acec-447b-983d-97c2a6d3da7a",
   "metadata": {},
   "outputs": [
    {
     "data": {
      "text/html": [
       "<div>\n",
       "<style scoped>\n",
       "    .dataframe tbody tr th:only-of-type {\n",
       "        vertical-align: middle;\n",
       "    }\n",
       "\n",
       "    .dataframe tbody tr th {\n",
       "        vertical-align: top;\n",
       "    }\n",
       "\n",
       "    .dataframe thead th {\n",
       "        text-align: right;\n",
       "    }\n",
       "</style>\n",
       "<table border=\"1\" class=\"dataframe\">\n",
       "  <thead>\n",
       "    <tr style=\"text-align: right;\">\n",
       "      <th></th>\n",
       "      <th>survived</th>\n",
       "      <th>pclass</th>\n",
       "      <th>sex</th>\n",
       "      <th>age</th>\n",
       "      <th>sibsp</th>\n",
       "      <th>parch</th>\n",
       "      <th>fare</th>\n",
       "      <th>embarked</th>\n",
       "      <th>title</th>\n",
       "      <th>full_name</th>\n",
       "    </tr>\n",
       "    <tr>\n",
       "      <th>PassengerId</th>\n",
       "      <th></th>\n",
       "      <th></th>\n",
       "      <th></th>\n",
       "      <th></th>\n",
       "      <th></th>\n",
       "      <th></th>\n",
       "      <th></th>\n",
       "      <th></th>\n",
       "      <th></th>\n",
       "      <th></th>\n",
       "    </tr>\n",
       "  </thead>\n",
       "  <tbody>\n",
       "    <tr>\n",
       "      <th>1</th>\n",
       "      <td>0</td>\n",
       "      <td>3</td>\n",
       "      <td>male</td>\n",
       "      <td>22.0</td>\n",
       "      <td>1</td>\n",
       "      <td>0</td>\n",
       "      <td>7.2500</td>\n",
       "      <td>S</td>\n",
       "      <td>Mr</td>\n",
       "      <td>Braund Owen Harris</td>\n",
       "    </tr>\n",
       "    <tr>\n",
       "      <th>2</th>\n",
       "      <td>1</td>\n",
       "      <td>1</td>\n",
       "      <td>female</td>\n",
       "      <td>38.0</td>\n",
       "      <td>1</td>\n",
       "      <td>0</td>\n",
       "      <td>71.2833</td>\n",
       "      <td>C</td>\n",
       "      <td>Mrs</td>\n",
       "      <td>Cumings John Bradley (Florence Briggs Thayer)</td>\n",
       "    </tr>\n",
       "    <tr>\n",
       "      <th>3</th>\n",
       "      <td>1</td>\n",
       "      <td>3</td>\n",
       "      <td>female</td>\n",
       "      <td>26.0</td>\n",
       "      <td>0</td>\n",
       "      <td>0</td>\n",
       "      <td>7.9250</td>\n",
       "      <td>S</td>\n",
       "      <td>Miss</td>\n",
       "      <td>Heikkinen Laina</td>\n",
       "    </tr>\n",
       "    <tr>\n",
       "      <th>4</th>\n",
       "      <td>1</td>\n",
       "      <td>1</td>\n",
       "      <td>female</td>\n",
       "      <td>35.0</td>\n",
       "      <td>1</td>\n",
       "      <td>0</td>\n",
       "      <td>53.1000</td>\n",
       "      <td>S</td>\n",
       "      <td>Mrs</td>\n",
       "      <td>Futrelle Jacques Heath (Lily May Peel)</td>\n",
       "    </tr>\n",
       "    <tr>\n",
       "      <th>5</th>\n",
       "      <td>0</td>\n",
       "      <td>3</td>\n",
       "      <td>male</td>\n",
       "      <td>35.0</td>\n",
       "      <td>0</td>\n",
       "      <td>0</td>\n",
       "      <td>8.0500</td>\n",
       "      <td>S</td>\n",
       "      <td>Mr</td>\n",
       "      <td>Allen William Henry</td>\n",
       "    </tr>\n",
       "    <tr>\n",
       "      <th>6</th>\n",
       "      <td>0</td>\n",
       "      <td>3</td>\n",
       "      <td>male</td>\n",
       "      <td>28.0</td>\n",
       "      <td>0</td>\n",
       "      <td>0</td>\n",
       "      <td>8.4583</td>\n",
       "      <td>Q</td>\n",
       "      <td>Mr</td>\n",
       "      <td>Moran James</td>\n",
       "    </tr>\n",
       "    <tr>\n",
       "      <th>7</th>\n",
       "      <td>0</td>\n",
       "      <td>1</td>\n",
       "      <td>male</td>\n",
       "      <td>54.0</td>\n",
       "      <td>0</td>\n",
       "      <td>0</td>\n",
       "      <td>51.8625</td>\n",
       "      <td>S</td>\n",
       "      <td>Mr</td>\n",
       "      <td>McCarthy Timothy J</td>\n",
       "    </tr>\n",
       "    <tr>\n",
       "      <th>8</th>\n",
       "      <td>0</td>\n",
       "      <td>3</td>\n",
       "      <td>male</td>\n",
       "      <td>2.0</td>\n",
       "      <td>3</td>\n",
       "      <td>1</td>\n",
       "      <td>21.0750</td>\n",
       "      <td>S</td>\n",
       "      <td>Master</td>\n",
       "      <td>Palsson Gosta Leonard</td>\n",
       "    </tr>\n",
       "    <tr>\n",
       "      <th>9</th>\n",
       "      <td>1</td>\n",
       "      <td>3</td>\n",
       "      <td>female</td>\n",
       "      <td>27.0</td>\n",
       "      <td>0</td>\n",
       "      <td>2</td>\n",
       "      <td>11.1333</td>\n",
       "      <td>S</td>\n",
       "      <td>Mrs</td>\n",
       "      <td>Johnson Oscar W (Elisabeth Vilhelmina Berg)</td>\n",
       "    </tr>\n",
       "    <tr>\n",
       "      <th>10</th>\n",
       "      <td>1</td>\n",
       "      <td>2</td>\n",
       "      <td>female</td>\n",
       "      <td>14.0</td>\n",
       "      <td>1</td>\n",
       "      <td>0</td>\n",
       "      <td>30.0708</td>\n",
       "      <td>C</td>\n",
       "      <td>Mrs</td>\n",
       "      <td>Nasser Nicholas (Adele Achem)</td>\n",
       "    </tr>\n",
       "  </tbody>\n",
       "</table>\n",
       "</div>"
      ],
      "text/plain": [
       "             survived  pclass     sex   age  sibsp  parch     fare embarked  \\\n",
       "PassengerId                                                                   \n",
       "1                   0       3    male  22.0      1      0   7.2500        S   \n",
       "2                   1       1  female  38.0      1      0  71.2833        C   \n",
       "3                   1       3  female  26.0      0      0   7.9250        S   \n",
       "4                   1       1  female  35.0      1      0  53.1000        S   \n",
       "5                   0       3    male  35.0      0      0   8.0500        S   \n",
       "6                   0       3    male  28.0      0      0   8.4583        Q   \n",
       "7                   0       1    male  54.0      0      0  51.8625        S   \n",
       "8                   0       3    male   2.0      3      1  21.0750        S   \n",
       "9                   1       3  female  27.0      0      2  11.1333        S   \n",
       "10                  1       2  female  14.0      1      0  30.0708        C   \n",
       "\n",
       "              title                                      full_name  \n",
       "PassengerId                                                         \n",
       "1                Mr                             Braund Owen Harris  \n",
       "2               Mrs  Cumings John Bradley (Florence Briggs Thayer)  \n",
       "3              Miss                                Heikkinen Laina  \n",
       "4               Mrs         Futrelle Jacques Heath (Lily May Peel)  \n",
       "5                Mr                            Allen William Henry  \n",
       "6                Mr                                    Moran James  \n",
       "7                Mr                             McCarthy Timothy J  \n",
       "8            Master                          Palsson Gosta Leonard  \n",
       "9               Mrs    Johnson Oscar W (Elisabeth Vilhelmina Berg)  \n",
       "10              Mrs                  Nasser Nicholas (Adele Achem)  "
      ]
     },
     "execution_count": 519,
     "metadata": {},
     "output_type": "execute_result"
    }
   ],
   "source": [
    "# recordamos nuestro dataset con el se va a trabajar\n",
    "db.head(10)"
   ]
  },
  {
   "cell_type": "markdown",
   "id": "cb2dd2f8-4736-407d-bc46-c4fc67589c24",
   "metadata": {},
   "source": [
    "* __Escogemos las variables de entrada para nuestro modelo__"
   ]
  },
  {
   "cell_type": "code",
   "execution_count": 521,
   "id": "2aca2321-2fde-408b-8907-48349f189b3d",
   "metadata": {},
   "outputs": [],
   "source": [
    "X = db[[\"pclass\", \"sex\", \"age\", \"fare\", \"sibsp\", \"parch\", \"embarked\"]].copy(deep=True)"
   ]
  },
  {
   "cell_type": "markdown",
   "id": "36c24dfc-4b9b-4106-80ea-4215a2ba39e4",
   "metadata": {},
   "source": [
    "* __Aislamos la variable a predecir__"
   ]
  },
  {
   "cell_type": "code",
   "execution_count": 522,
   "id": "7394f2fd-e613-40e1-95bd-36cfb70595c4",
   "metadata": {},
   "outputs": [],
   "source": [
    "y = db[[\"survived\"]].copy(deep=True)"
   ]
  },
  {
   "cell_type": "markdown",
   "id": "3df79631-cb73-4bdf-870a-c2ff58c0d4fb",
   "metadata": {},
   "source": [
    "* __Convertimos las etiquetas a números__"
   ]
  },
  {
   "cell_type": "markdown",
   "id": "872195f2-a4c9-48a4-a732-66f40174d688",
   "metadata": {},
   "source": [
    "Para poder usar las varibles categóricas como entrada, debemos convertirlas a números, vamos a despreciar la variable \"title\" y la variable \"full_name\" ya que al no seguir ningún orden podría darnos datos que no se ajustarían a nuestros análisis."
   ]
  },
  {
   "cell_type": "code",
   "execution_count": 527,
   "id": "241656e1-f5c5-4220-b355-9139130625a3",
   "metadata": {},
   "outputs": [],
   "source": [
    "# seleccionamos las variables categóricas a convertir\n",
    "vcat_list= [\"sex\", \"embarked\"]"
   ]
  },
  {
   "cell_type": "code",
   "execution_count": 528,
   "id": "e20d8aff-3c99-4de1-ac93-c2d69d920fc3",
   "metadata": {},
   "outputs": [],
   "source": [
    "# creamos un diccionario y un bucle para convertir las variables\n",
    "label_enc_dict = {}\n",
    "for cat_var in vcat_list:\n",
    "    label_enc = LabelEncoder()\n",
    "    X[cat_var] = label_enc.fit_transform(X[cat_var])\n",
    "    label_enc_dict[cat_var] = label_enc"
   ]
  },
  {
   "cell_type": "code",
   "execution_count": 529,
   "id": "de6d24fc-0e44-40ee-a6dc-93442fa40bad",
   "metadata": {},
   "outputs": [
    {
     "data": {
      "text/html": [
       "<div>\n",
       "<style scoped>\n",
       "    .dataframe tbody tr th:only-of-type {\n",
       "        vertical-align: middle;\n",
       "    }\n",
       "\n",
       "    .dataframe tbody tr th {\n",
       "        vertical-align: top;\n",
       "    }\n",
       "\n",
       "    .dataframe thead th {\n",
       "        text-align: right;\n",
       "    }\n",
       "</style>\n",
       "<table border=\"1\" class=\"dataframe\">\n",
       "  <thead>\n",
       "    <tr style=\"text-align: right;\">\n",
       "      <th></th>\n",
       "      <th>pclass</th>\n",
       "      <th>sex</th>\n",
       "      <th>age</th>\n",
       "      <th>fare</th>\n",
       "      <th>sibsp</th>\n",
       "      <th>parch</th>\n",
       "      <th>embarked</th>\n",
       "    </tr>\n",
       "    <tr>\n",
       "      <th>PassengerId</th>\n",
       "      <th></th>\n",
       "      <th></th>\n",
       "      <th></th>\n",
       "      <th></th>\n",
       "      <th></th>\n",
       "      <th></th>\n",
       "      <th></th>\n",
       "    </tr>\n",
       "  </thead>\n",
       "  <tbody>\n",
       "    <tr>\n",
       "      <th>1</th>\n",
       "      <td>3</td>\n",
       "      <td>1</td>\n",
       "      <td>22.0</td>\n",
       "      <td>7.2500</td>\n",
       "      <td>1</td>\n",
       "      <td>0</td>\n",
       "      <td>2</td>\n",
       "    </tr>\n",
       "    <tr>\n",
       "      <th>2</th>\n",
       "      <td>1</td>\n",
       "      <td>0</td>\n",
       "      <td>38.0</td>\n",
       "      <td>71.2833</td>\n",
       "      <td>1</td>\n",
       "      <td>0</td>\n",
       "      <td>0</td>\n",
       "    </tr>\n",
       "    <tr>\n",
       "      <th>3</th>\n",
       "      <td>3</td>\n",
       "      <td>0</td>\n",
       "      <td>26.0</td>\n",
       "      <td>7.9250</td>\n",
       "      <td>0</td>\n",
       "      <td>0</td>\n",
       "      <td>2</td>\n",
       "    </tr>\n",
       "    <tr>\n",
       "      <th>4</th>\n",
       "      <td>1</td>\n",
       "      <td>0</td>\n",
       "      <td>35.0</td>\n",
       "      <td>53.1000</td>\n",
       "      <td>1</td>\n",
       "      <td>0</td>\n",
       "      <td>2</td>\n",
       "    </tr>\n",
       "    <tr>\n",
       "      <th>5</th>\n",
       "      <td>3</td>\n",
       "      <td>1</td>\n",
       "      <td>35.0</td>\n",
       "      <td>8.0500</td>\n",
       "      <td>0</td>\n",
       "      <td>0</td>\n",
       "      <td>2</td>\n",
       "    </tr>\n",
       "    <tr>\n",
       "      <th>...</th>\n",
       "      <td>...</td>\n",
       "      <td>...</td>\n",
       "      <td>...</td>\n",
       "      <td>...</td>\n",
       "      <td>...</td>\n",
       "      <td>...</td>\n",
       "      <td>...</td>\n",
       "    </tr>\n",
       "    <tr>\n",
       "      <th>887</th>\n",
       "      <td>2</td>\n",
       "      <td>1</td>\n",
       "      <td>27.0</td>\n",
       "      <td>13.0000</td>\n",
       "      <td>0</td>\n",
       "      <td>0</td>\n",
       "      <td>2</td>\n",
       "    </tr>\n",
       "    <tr>\n",
       "      <th>888</th>\n",
       "      <td>1</td>\n",
       "      <td>0</td>\n",
       "      <td>19.0</td>\n",
       "      <td>30.0000</td>\n",
       "      <td>0</td>\n",
       "      <td>0</td>\n",
       "      <td>2</td>\n",
       "    </tr>\n",
       "    <tr>\n",
       "      <th>889</th>\n",
       "      <td>3</td>\n",
       "      <td>0</td>\n",
       "      <td>28.0</td>\n",
       "      <td>23.4500</td>\n",
       "      <td>1</td>\n",
       "      <td>2</td>\n",
       "      <td>2</td>\n",
       "    </tr>\n",
       "    <tr>\n",
       "      <th>890</th>\n",
       "      <td>1</td>\n",
       "      <td>1</td>\n",
       "      <td>26.0</td>\n",
       "      <td>30.0000</td>\n",
       "      <td>0</td>\n",
       "      <td>0</td>\n",
       "      <td>0</td>\n",
       "    </tr>\n",
       "    <tr>\n",
       "      <th>891</th>\n",
       "      <td>3</td>\n",
       "      <td>1</td>\n",
       "      <td>32.0</td>\n",
       "      <td>7.7500</td>\n",
       "      <td>0</td>\n",
       "      <td>0</td>\n",
       "      <td>1</td>\n",
       "    </tr>\n",
       "  </tbody>\n",
       "</table>\n",
       "<p>891 rows × 7 columns</p>\n",
       "</div>"
      ],
      "text/plain": [
       "             pclass  sex   age     fare  sibsp  parch  embarked\n",
       "PassengerId                                                    \n",
       "1                 3    1  22.0   7.2500      1      0         2\n",
       "2                 1    0  38.0  71.2833      1      0         0\n",
       "3                 3    0  26.0   7.9250      0      0         2\n",
       "4                 1    0  35.0  53.1000      1      0         2\n",
       "5                 3    1  35.0   8.0500      0      0         2\n",
       "...             ...  ...   ...      ...    ...    ...       ...\n",
       "887               2    1  27.0  13.0000      0      0         2\n",
       "888               1    0  19.0  30.0000      0      0         2\n",
       "889               3    0  28.0  23.4500      1      2         2\n",
       "890               1    1  26.0  30.0000      0      0         0\n",
       "891               3    1  32.0   7.7500      0      0         1\n",
       "\n",
       "[891 rows x 7 columns]"
      ]
     },
     "execution_count": 529,
     "metadata": {},
     "output_type": "execute_result"
    }
   ],
   "source": [
    "X"
   ]
  },
  {
   "cell_type": "markdown",
   "id": "0ecc5014-a6f3-4726-9045-fe6e9b264e90",
   "metadata": {},
   "source": [
    "* __Estandarización de valores numéricos__"
   ]
  },
  {
   "cell_type": "markdown",
   "id": "ace47302-bbfc-40f8-913b-63b317643518",
   "metadata": {},
   "source": [
    "En este caso vamos a utilizar el modelo Standard Scaler para ajustar los datos de las variables de manera que la distribución se centre alrededor de 0 con una desviación estándar de 1, aunque en \"fare\" tengamos algunos outliers."
   ]
  },
  {
   "cell_type": "code",
   "execution_count": 530,
   "id": "6433208c-3df0-41c5-a043-0aa1e9aeb527",
   "metadata": {},
   "outputs": [],
   "source": [
    "# importamos el modelo\n",
    "from sklearn.preprocessing import StandardScaler"
   ]
  },
  {
   "cell_type": "code",
   "execution_count": 531,
   "id": "9facab21-65ca-4855-a618-5a3f7b96a87a",
   "metadata": {},
   "outputs": [],
   "source": [
    "# escogemos las variables numéricas que queremos normalizar\n",
    "vnum_list = [\"age\",\"fare\",\"pclass\",\"sibsp\", \"parch\"]"
   ]
  },
  {
   "cell_type": "code",
   "execution_count": 532,
   "id": "cc70452f-096d-4319-b159-ef7f60cbd86f",
   "metadata": {},
   "outputs": [],
   "source": [
    "# creamos un diccionario para guardar el objeto creado\n",
    "scaler_dict = {}\n",
    "for num_var in vnum_list:\n",
    "    standsc = StandardScaler()\n",
    "    X[num_var] = standsc.fit_transform(X[num_var].to_numpy().reshape(-1,1))\n",
    "    scaler_dict[num_var] = standsc"
   ]
  },
  {
   "cell_type": "code",
   "execution_count": 533,
   "id": "80e355ab-115c-4c94-81f2-508913a93f78",
   "metadata": {},
   "outputs": [
    {
     "data": {
      "text/html": [
       "<div>\n",
       "<style scoped>\n",
       "    .dataframe tbody tr th:only-of-type {\n",
       "        vertical-align: middle;\n",
       "    }\n",
       "\n",
       "    .dataframe tbody tr th {\n",
       "        vertical-align: top;\n",
       "    }\n",
       "\n",
       "    .dataframe thead th {\n",
       "        text-align: right;\n",
       "    }\n",
       "</style>\n",
       "<table border=\"1\" class=\"dataframe\">\n",
       "  <thead>\n",
       "    <tr style=\"text-align: right;\">\n",
       "      <th></th>\n",
       "      <th>pclass</th>\n",
       "      <th>sex</th>\n",
       "      <th>age</th>\n",
       "      <th>fare</th>\n",
       "      <th>sibsp</th>\n",
       "      <th>parch</th>\n",
       "      <th>embarked</th>\n",
       "    </tr>\n",
       "    <tr>\n",
       "      <th>PassengerId</th>\n",
       "      <th></th>\n",
       "      <th></th>\n",
       "      <th></th>\n",
       "      <th></th>\n",
       "      <th></th>\n",
       "      <th></th>\n",
       "      <th></th>\n",
       "    </tr>\n",
       "  </thead>\n",
       "  <tbody>\n",
       "    <tr>\n",
       "      <th>1</th>\n",
       "      <td>0.827377</td>\n",
       "      <td>1</td>\n",
       "      <td>-0.565736</td>\n",
       "      <td>-0.502445</td>\n",
       "      <td>0.432793</td>\n",
       "      <td>-0.473674</td>\n",
       "      <td>2</td>\n",
       "    </tr>\n",
       "    <tr>\n",
       "      <th>2</th>\n",
       "      <td>-1.566107</td>\n",
       "      <td>0</td>\n",
       "      <td>0.663861</td>\n",
       "      <td>0.786845</td>\n",
       "      <td>0.432793</td>\n",
       "      <td>-0.473674</td>\n",
       "      <td>0</td>\n",
       "    </tr>\n",
       "    <tr>\n",
       "      <th>3</th>\n",
       "      <td>0.827377</td>\n",
       "      <td>0</td>\n",
       "      <td>-0.258337</td>\n",
       "      <td>-0.488854</td>\n",
       "      <td>-0.474545</td>\n",
       "      <td>-0.473674</td>\n",
       "      <td>2</td>\n",
       "    </tr>\n",
       "    <tr>\n",
       "      <th>4</th>\n",
       "      <td>-1.566107</td>\n",
       "      <td>0</td>\n",
       "      <td>0.433312</td>\n",
       "      <td>0.420730</td>\n",
       "      <td>0.432793</td>\n",
       "      <td>-0.473674</td>\n",
       "      <td>2</td>\n",
       "    </tr>\n",
       "    <tr>\n",
       "      <th>5</th>\n",
       "      <td>0.827377</td>\n",
       "      <td>1</td>\n",
       "      <td>0.433312</td>\n",
       "      <td>-0.486337</td>\n",
       "      <td>-0.474545</td>\n",
       "      <td>-0.473674</td>\n",
       "      <td>2</td>\n",
       "    </tr>\n",
       "    <tr>\n",
       "      <th>...</th>\n",
       "      <td>...</td>\n",
       "      <td>...</td>\n",
       "      <td>...</td>\n",
       "      <td>...</td>\n",
       "      <td>...</td>\n",
       "      <td>...</td>\n",
       "      <td>...</td>\n",
       "    </tr>\n",
       "    <tr>\n",
       "      <th>887</th>\n",
       "      <td>-0.369365</td>\n",
       "      <td>1</td>\n",
       "      <td>-0.181487</td>\n",
       "      <td>-0.386671</td>\n",
       "      <td>-0.474545</td>\n",
       "      <td>-0.473674</td>\n",
       "      <td>2</td>\n",
       "    </tr>\n",
       "    <tr>\n",
       "      <th>888</th>\n",
       "      <td>-1.566107</td>\n",
       "      <td>0</td>\n",
       "      <td>-0.796286</td>\n",
       "      <td>-0.044381</td>\n",
       "      <td>-0.474545</td>\n",
       "      <td>-0.473674</td>\n",
       "      <td>2</td>\n",
       "    </tr>\n",
       "    <tr>\n",
       "      <th>889</th>\n",
       "      <td>0.827377</td>\n",
       "      <td>0</td>\n",
       "      <td>-0.104637</td>\n",
       "      <td>-0.176263</td>\n",
       "      <td>0.432793</td>\n",
       "      <td>2.008933</td>\n",
       "      <td>2</td>\n",
       "    </tr>\n",
       "    <tr>\n",
       "      <th>890</th>\n",
       "      <td>-1.566107</td>\n",
       "      <td>1</td>\n",
       "      <td>-0.258337</td>\n",
       "      <td>-0.044381</td>\n",
       "      <td>-0.474545</td>\n",
       "      <td>-0.473674</td>\n",
       "      <td>0</td>\n",
       "    </tr>\n",
       "    <tr>\n",
       "      <th>891</th>\n",
       "      <td>0.827377</td>\n",
       "      <td>1</td>\n",
       "      <td>0.202762</td>\n",
       "      <td>-0.492378</td>\n",
       "      <td>-0.474545</td>\n",
       "      <td>-0.473674</td>\n",
       "      <td>1</td>\n",
       "    </tr>\n",
       "  </tbody>\n",
       "</table>\n",
       "<p>891 rows × 7 columns</p>\n",
       "</div>"
      ],
      "text/plain": [
       "               pclass  sex       age      fare     sibsp     parch  embarked\n",
       "PassengerId                                                                 \n",
       "1            0.827377    1 -0.565736 -0.502445  0.432793 -0.473674         2\n",
       "2           -1.566107    0  0.663861  0.786845  0.432793 -0.473674         0\n",
       "3            0.827377    0 -0.258337 -0.488854 -0.474545 -0.473674         2\n",
       "4           -1.566107    0  0.433312  0.420730  0.432793 -0.473674         2\n",
       "5            0.827377    1  0.433312 -0.486337 -0.474545 -0.473674         2\n",
       "...               ...  ...       ...       ...       ...       ...       ...\n",
       "887         -0.369365    1 -0.181487 -0.386671 -0.474545 -0.473674         2\n",
       "888         -1.566107    0 -0.796286 -0.044381 -0.474545 -0.473674         2\n",
       "889          0.827377    0 -0.104637 -0.176263  0.432793  2.008933         2\n",
       "890         -1.566107    1 -0.258337 -0.044381 -0.474545 -0.473674         0\n",
       "891          0.827377    1  0.202762 -0.492378 -0.474545 -0.473674         1\n",
       "\n",
       "[891 rows x 7 columns]"
      ]
     },
     "execution_count": 533,
     "metadata": {},
     "output_type": "execute_result"
    }
   ],
   "source": [
    "X"
   ]
  },
  {
   "cell_type": "markdown",
   "id": "1a23b3e1-bd2a-40da-87dc-9993013b5b48",
   "metadata": {},
   "source": [
    "En este paso, una vez que ya tenemos nuestras variables bien tratadas podemos sacar más correlaciones interesantes que antes eran imposibles de calcular."
   ]
  },
  {
   "cell_type": "code",
   "execution_count": 534,
   "id": "0b97cbe1-5f83-4605-8e61-480dff2ec4a4",
   "metadata": {},
   "outputs": [],
   "source": [
    "X_matriz_corr = X.copy()\n",
    "X_matriz_corr[\"survived\"] = y"
   ]
  },
  {
   "cell_type": "code",
   "execution_count": 535,
   "id": "429f7a5b-d10f-4471-97d9-f04f8866ab6b",
   "metadata": {},
   "outputs": [],
   "source": [
    "corr_matrix = X_matriz_corr.corr()"
   ]
  },
  {
   "cell_type": "code",
   "execution_count": 539,
   "id": "a166aec5-abf8-46d7-8e06-81c83838199f",
   "metadata": {},
   "outputs": [
    {
     "data": {
      "image/png": "[encoded data removed]",
      "text/plain": [
       "<Figure size 1000x800 with 2 Axes>"
      ]
     },
     "metadata": {},
     "output_type": "display_data"
    }
   ],
   "source": [
    "plt.figure(figsize=(10,8))\n",
    "sns.heatmap(corr_matrix, annot=True, cmap = \"coolwarm\", vmin=-1, vmax=1)\n",
    "plt.title(\"heatmap dataset\")\n",
    "plt.show()"
   ]
  },
  {
   "cell_type": "markdown",
   "id": "7bd27cdb-ed8c-436c-bc77-016440edf544",
   "metadata": {},
   "source": [
    "En nuestro heatmap podemos observar que la varible \"fare\" tiene una influencia importante en nuestra variable objetivo \"survived\", por lo que podemos afirmar que es una variable valiosa de cara al modelo, asimismo la variable \"parch\" también es importante para nuestra variable objetivo. También se puede apreciar que aunque la mayoría de supervivientes fueron mujeres, según nuestro análisis \"sex\" representa una correlación débil con nuestra variable objetivo, sin embargo la variable \"age\" sí está relacionada aunque de una manera débil, esto tendría que ver con que se priorizó a los niños para que fuesen salvados del naufragio. Interés especial representa la variable \"pclass\" que aunque sabemos que la gran mayoría de pasajeros de la primera clase fueron los que se salvaron, según nuestro análisis muestra una correlación débil con nuestra variable \"survived\" y esto es por que la gran mayoría de pasajeros viajaba en la tercera clase donde hubo pocos supervivientes.\n"
   ]
  },
  {
   "cell_type": "code",
   "execution_count": null,
   "id": "fa27c57c-0efd-46c2-b225-58195a3f253d",
   "metadata": {},
   "outputs": [],
   "source": []
  },
  {
   "cell_type": "markdown",
   "id": "eed1d3c9-7b4e-4fd6-bef1-abee52320ec4",
   "metadata": {},
   "source": [
    "* __Aplicación de algoritmo de clasificación__"
   ]
  },
  {
   "cell_type": "code",
   "execution_count": 543,
   "id": "05668b71-c3e8-44a4-ac62-e9c0db523a7c",
   "metadata": {},
   "outputs": [],
   "source": [
    "# dividimos los datos en conjuntos de entrenamiento/validación\n",
    "X_train, X_test, y_train, y_test = train_test_split(X, y, test_size=0.2)"
   ]
  },
  {
   "cell_type": "code",
   "execution_count": 545,
   "id": "d869af00-f23f-4f87-91a5-b18315aac7d4",
   "metadata": {},
   "outputs": [],
   "source": [
    "# entrenamos el modelo escogido con los datos\n",
    "log_Regr = LogisticRegression()"
   ]
  },
  {
   "cell_type": "code",
   "execution_count": 550,
   "id": "d0e2f223-8f3e-49ac-8223-985a592c4d34",
   "metadata": {},
   "outputs": [
    {
     "data": {
      "text/html": [
       "<style>#sk-container-id-3 {color: black;background-color: white;}#sk-container-id-3 pre{padding: 0;}#sk-container-id-3 div.sk-toggleable {background-color: white;}#sk-container-id-3 label.sk-toggleable__label {cursor: pointer;display: block;width: 100%;margin-bottom: 0;padding: 0.3em;box-sizing: border-box;text-align: center;}#sk-container-id-3 label.sk-toggleable__label-arrow:before {content: \"▸\";float: left;margin-right: 0.25em;color: #696969;}#sk-container-id-3 label.sk-toggleable__label-arrow:hover:before {color: black;}#sk-container-id-3 div.sk-estimator:hover label.sk-toggleable__label-arrow:before {color: black;}#sk-container-id-3 div.sk-toggleable__content {max-height: 0;max-width: 0;overflow: hidden;text-align: left;background-color: #f0f8ff;}#sk-container-id-3 div.sk-toggleable__content pre {margin: 0.2em;color: black;border-radius: 0.25em;background-color: #f0f8ff;}#sk-container-id-3 input.sk-toggleable__control:checked~div.sk-toggleable__content {max-height: 200px;max-width: 100%;overflow: auto;}#sk-container-id-3 input.sk-toggleable__control:checked~label.sk-toggleable__label-arrow:before {content: \"▾\";}#sk-container-id-3 div.sk-estimator input.sk-toggleable__control:checked~label.sk-toggleable__label {background-color: #d4ebff;}#sk-container-id-3 div.sk-label input.sk-toggleable__control:checked~label.sk-toggleable__label {background-color: #d4ebff;}#sk-container-id-3 input.sk-hidden--visually {border: 0;clip: rect(1px 1px 1px 1px);clip: rect(1px, 1px, 1px, 1px);height: 1px;margin: -1px;overflow: hidden;padding: 0;position: absolute;width: 1px;}#sk-container-id-3 div.sk-estimator {font-family: monospace;background-color: #f0f8ff;border: 1px dotted black;border-radius: 0.25em;box-sizing: border-box;margin-bottom: 0.5em;}#sk-container-id-3 div.sk-estimator:hover {background-color: #d4ebff;}#sk-container-id-3 div.sk-parallel-item::after {content: \"\";width: 100%;border-bottom: 1px solid gray;flex-grow: 1;}#sk-container-id-3 div.sk-label:hover label.sk-toggleable__label {background-color: #d4ebff;}#sk-container-id-3 div.sk-serial::before {content: \"\";position: absolute;border-left: 1px solid gray;box-sizing: border-box;top: 0;bottom: 0;left: 50%;z-index: 0;}#sk-container-id-3 div.sk-serial {display: flex;flex-direction: column;align-items: center;background-color: white;padding-right: 0.2em;padding-left: 0.2em;position: relative;}#sk-container-id-3 div.sk-item {position: relative;z-index: 1;}#sk-container-id-3 div.sk-parallel {display: flex;align-items: stretch;justify-content: center;background-color: white;position: relative;}#sk-container-id-3 div.sk-item::before, #sk-container-id-3 div.sk-parallel-item::before {content: \"\";position: absolute;border-left: 1px solid gray;box-sizing: border-box;top: 0;bottom: 0;left: 50%;z-index: -1;}#sk-container-id-3 div.sk-parallel-item {display: flex;flex-direction: column;z-index: 1;position: relative;background-color: white;}#sk-container-id-3 div.sk-parallel-item:first-child::after {align-self: flex-end;width: 50%;}#sk-container-id-3 div.sk-parallel-item:last-child::after {align-self: flex-start;width: 50%;}#sk-container-id-3 div.sk-parallel-item:only-child::after {width: 0;}#sk-container-id-3 div.sk-dashed-wrapped {border: 1px dashed gray;margin: 0 0.4em 0.5em 0.4em;box-sizing: border-box;padding-bottom: 0.4em;background-color: white;}#sk-container-id-3 div.sk-label label {font-family: monospace;font-weight: bold;display: inline-block;line-height: 1.2em;}#sk-container-id-3 div.sk-label-container {text-align: center;}#sk-container-id-3 div.sk-container {/* jupyter's `normalize.less` sets `[hidden] { display: none; }` but bootstrap.min.css set `[hidden] { display: none !important; }` so we also need the `!important` here to be able to override the default hidden behavior on the sphinx rendered scikit-learn.org. See: https://github.com/scikit-learn/scikit-learn/issues/21755 */display: inline-block !important;position: relative;}#sk-container-id-3 div.sk-text-repr-fallback {display: none;}</style><div id=\"sk-container-id-3\" class=\"sk-top-container\"><div class=\"sk-text-repr-fallback\"><pre>LogisticRegression()</pre><b>In a Jupyter environment, please rerun this cell to show the HTML representation or trust the notebook. <br />On GitHub, the HTML representation is unable to render, please try loading this page with nbviewer.org.</b></div><div class=\"sk-container\" hidden><div class=\"sk-item\"><div class=\"sk-estimator sk-toggleable\"><input class=\"sk-toggleable__control sk-hidden--visually\" id=\"sk-estimator-id-3\" type=\"checkbox\" checked><label for=\"sk-estimator-id-3\" class=\"sk-toggleable__label sk-toggleable__label-arrow\">LogisticRegression</label><div class=\"sk-toggleable__content\"><pre>LogisticRegression()</pre></div></div></div></div></div>"
      ],
      "text/plain": [
       "LogisticRegression()"
      ]
     },
     "execution_count": 550,
     "metadata": {},
     "output_type": "execute_result"
    }
   ],
   "source": [
    "log_Regr.fit(X_train, np.ravel(y_train))"
   ]
  },
  {
   "cell_type": "code",
   "execution_count": 551,
   "id": "107c2213-0e88-4011-8689-3f2e207ba372",
   "metadata": {},
   "outputs": [
    {
     "data": {
      "text/html": [
       "<style>#sk-container-id-4 {color: black;background-color: white;}#sk-container-id-4 pre{padding: 0;}#sk-container-id-4 div.sk-toggleable {background-color: white;}#sk-container-id-4 label.sk-toggleable__label {cursor: pointer;display: block;width: 100%;margin-bottom: 0;padding: 0.3em;box-sizing: border-box;text-align: center;}#sk-container-id-4 label.sk-toggleable__label-arrow:before {content: \"▸\";float: left;margin-right: 0.25em;color: #696969;}#sk-container-id-4 label.sk-toggleable__label-arrow:hover:before {color: black;}#sk-container-id-4 div.sk-estimator:hover label.sk-toggleable__label-arrow:before {color: black;}#sk-container-id-4 div.sk-toggleable__content {max-height: 0;max-width: 0;overflow: hidden;text-align: left;background-color: #f0f8ff;}#sk-container-id-4 div.sk-toggleable__content pre {margin: 0.2em;color: black;border-radius: 0.25em;background-color: #f0f8ff;}#sk-container-id-4 input.sk-toggleable__control:checked~div.sk-toggleable__content {max-height: 200px;max-width: 100%;overflow: auto;}#sk-container-id-4 input.sk-toggleable__control:checked~label.sk-toggleable__label-arrow:before {content: \"▾\";}#sk-container-id-4 div.sk-estimator input.sk-toggleable__control:checked~label.sk-toggleable__label {background-color: #d4ebff;}#sk-container-id-4 div.sk-label input.sk-toggleable__control:checked~label.sk-toggleable__label {background-color: #d4ebff;}#sk-container-id-4 input.sk-hidden--visually {border: 0;clip: rect(1px 1px 1px 1px);clip: rect(1px, 1px, 1px, 1px);height: 1px;margin: -1px;overflow: hidden;padding: 0;position: absolute;width: 1px;}#sk-container-id-4 div.sk-estimator {font-family: monospace;background-color: #f0f8ff;border: 1px dotted black;border-radius: 0.25em;box-sizing: border-box;margin-bottom: 0.5em;}#sk-container-id-4 div.sk-estimator:hover {background-color: #d4ebff;}#sk-container-id-4 div.sk-parallel-item::after {content: \"\";width: 100%;border-bottom: 1px solid gray;flex-grow: 1;}#sk-container-id-4 div.sk-label:hover label.sk-toggleable__label {background-color: #d4ebff;}#sk-container-id-4 div.sk-serial::before {content: \"\";position: absolute;border-left: 1px solid gray;box-sizing: border-box;top: 0;bottom: 0;left: 50%;z-index: 0;}#sk-container-id-4 div.sk-serial {display: flex;flex-direction: column;align-items: center;background-color: white;padding-right: 0.2em;padding-left: 0.2em;position: relative;}#sk-container-id-4 div.sk-item {position: relative;z-index: 1;}#sk-container-id-4 div.sk-parallel {display: flex;align-items: stretch;justify-content: center;background-color: white;position: relative;}#sk-container-id-4 div.sk-item::before, #sk-container-id-4 div.sk-parallel-item::before {content: \"\";position: absolute;border-left: 1px solid gray;box-sizing: border-box;top: 0;bottom: 0;left: 50%;z-index: -1;}#sk-container-id-4 div.sk-parallel-item {display: flex;flex-direction: column;z-index: 1;position: relative;background-color: white;}#sk-container-id-4 div.sk-parallel-item:first-child::after {align-self: flex-end;width: 50%;}#sk-container-id-4 div.sk-parallel-item:last-child::after {align-self: flex-start;width: 50%;}#sk-container-id-4 div.sk-parallel-item:only-child::after {width: 0;}#sk-container-id-4 div.sk-dashed-wrapped {border: 1px dashed gray;margin: 0 0.4em 0.5em 0.4em;box-sizing: border-box;padding-bottom: 0.4em;background-color: white;}#sk-container-id-4 div.sk-label label {font-family: monospace;font-weight: bold;display: inline-block;line-height: 1.2em;}#sk-container-id-4 div.sk-label-container {text-align: center;}#sk-container-id-4 div.sk-container {/* jupyter's `normalize.less` sets `[hidden] { display: none; }` but bootstrap.min.css set `[hidden] { display: none !important; }` so we also need the `!important` here to be able to override the default hidden behavior on the sphinx rendered scikit-learn.org. See: https://github.com/scikit-learn/scikit-learn/issues/21755 */display: inline-block !important;position: relative;}#sk-container-id-4 div.sk-text-repr-fallback {display: none;}</style><div id=\"sk-container-id-4\" class=\"sk-top-container\"><div class=\"sk-text-repr-fallback\"><pre>LogisticRegression()</pre><b>In a Jupyter environment, please rerun this cell to show the HTML representation or trust the notebook. <br />On GitHub, the HTML representation is unable to render, please try loading this page with nbviewer.org.</b></div><div class=\"sk-container\" hidden><div class=\"sk-item\"><div class=\"sk-estimator sk-toggleable\"><input class=\"sk-toggleable__control sk-hidden--visually\" id=\"sk-estimator-id-4\" type=\"checkbox\" checked><label for=\"sk-estimator-id-4\" class=\"sk-toggleable__label sk-toggleable__label-arrow\">LogisticRegression</label><div class=\"sk-toggleable__content\"><pre>LogisticRegression()</pre></div></div></div></div></div>"
      ],
      "text/plain": [
       "LogisticRegression()"
      ]
     },
     "execution_count": 551,
     "metadata": {},
     "output_type": "execute_result"
    }
   ],
   "source": [
    "LogisticRegression()"
   ]
  },
  {
   "cell_type": "code",
   "execution_count": 556,
   "id": "a686957c-b382-461c-976a-26bf993241fa",
   "metadata": {},
   "outputs": [],
   "source": [
    "# realizamos algunas predicciones\n",
    "predicciones = log_Regr.predict(X_test)"
   ]
  },
  {
   "cell_type": "code",
   "execution_count": 557,
   "id": "d6d52dae-27fc-4e51-8341-29d73352b866",
   "metadata": {},
   "outputs": [
    {
     "name": "stdout",
     "output_type": "stream",
     "text": [
      "[0 0 0 0 0 0 0 0 1 1]\n"
     ]
    }
   ],
   "source": [
    "print(predicciones[:10])"
   ]
  },
  {
   "cell_type": "code",
   "execution_count": null,
   "id": "62a8ab64-a3bc-4c24-98ab-3d2735b096a1",
   "metadata": {},
   "outputs": [],
   "source": []
  },
  {
   "cell_type": "markdown",
   "id": "4e268115-9bdd-42cc-ac47-60aa41a6e57f",
   "metadata": {},
   "source": [
    "* __Cálculo de métrica: ACCURACY__"
   ]
  },
  {
   "cell_type": "markdown",
   "id": "3cc0833b-4aa4-4fc4-96fc-6f5a56a7245a",
   "metadata": {},
   "source": [
    "usaremos accuracy para validar qué tal funciona el modelo en el conjunto de entrenamiento, recordemos que accuracy es una medida que indica la proporción de predicciones correctas sobre el total de predicciones realizadas. "
   ]
  },
  {
   "cell_type": "code",
   "execution_count": 558,
   "id": "7d360aa5-7789-431a-86ac-dff9806f1eaa",
   "metadata": {},
   "outputs": [],
   "source": [
    "# esta función compara elemento a elemento e indica si cada predicción es correcta o incorrecta\n",
    "def accuracy(ground_truth, predicciones):\n",
    "    comparar_valores = list(ground_truth == predicciones)\n",
    "    n_true = comparar_valores.count(True)\n",
    "    n_false = comparar_valores.count(False)\n",
    "    return n_true/(n_true + n_false)"
   ]
  },
  {
   "cell_type": "code",
   "execution_count": 559,
   "id": "b9da8587-0578-477d-890e-9109f0208fa9",
   "metadata": {},
   "outputs": [],
   "source": [
    "# predecimos las etiquetas en el conjunto de entrenamiento.\n",
    "predicciones_train = log_Regr.predict(X_train)\n",
    "ground_truth_train = y_train.to_numpy().reshape(-1)"
   ]
  },
  {
   "cell_type": "code",
   "execution_count": 560,
   "id": "169e9e2f-d240-423f-80cd-fad3b1b561e2",
   "metadata": {},
   "outputs": [
    {
     "data": {
      "text/plain": [
       "0.7991573033707865"
      ]
     },
     "execution_count": 560,
     "metadata": {},
     "output_type": "execute_result"
    }
   ],
   "source": [
    "# comparamos las etiquetas verdaderas con las predicciones del modelo para calcular la precisión.\n",
    "accuracy(ground_truth_train, predicciones_train)"
   ]
  },
  {
   "cell_type": "markdown",
   "id": "45099a45-1f77-4172-8b07-8450de417a0c",
   "metadata": {},
   "source": [
    "según nuestros datos del conjunto de entrenamiento, tenemos una precisión del 79%"
   ]
  },
  {
   "cell_type": "code",
   "execution_count": 562,
   "id": "c159f936-51f5-4fcb-a069-e355ffd88af3",
   "metadata": {},
   "outputs": [],
   "source": [
    "# ahora calculamos la misma métrica en el set de validación\n",
    "predicciones_test = log_Regr.predict(X_test)\n",
    "ground_truth_test = y_test.to_numpy().reshape(-1)"
   ]
  },
  {
   "cell_type": "code",
   "execution_count": 563,
   "id": "8c7b433e-de7a-4189-a20c-54ad3beff3b7",
   "metadata": {},
   "outputs": [
    {
     "data": {
      "text/plain": [
       "0.7877094972067039"
      ]
     },
     "execution_count": 563,
     "metadata": {},
     "output_type": "execute_result"
    }
   ],
   "source": [
    "# comparamos las etiquetas verdaderas con las predicciones del modelo para calcular la precisión.\n",
    "accuracy(ground_truth_test, predicciones_test)"
   ]
  },
  {
   "cell_type": "markdown",
   "id": "34cd0b06-4d84-4dfb-ba09-1a6b448d3231",
   "metadata": {},
   "source": [
    "según nuestros datos del conjunto de validación, nuestro modelo muestra una precisión del __78%__"
   ]
  },
  {
   "cell_type": "markdown",
   "id": "81143b7d-4b01-4e14-bb91-457afdbe1768",
   "metadata": {},
   "source": [
    "Obtener una precisión del 79% en el conjunto de entrenamiento y 78% en el conjunto de validación indica que el modelo está haciendo un buen trabajo en predecir si alguien sobrevivió o no (variable \"survived\"), y que sus predicciones son consistentes en datos que ha visto durante el entrenamiento y en datos nuevos."
   ]
  },
  {
   "cell_type": "code",
   "execution_count": null,
   "id": "2869ff84-b7d2-4a0a-b9ef-58311ba82859",
   "metadata": {},
   "outputs": [],
   "source": []
  },
  {
   "cell_type": "markdown",
   "id": "eb5274d2-16df-4353-b900-e5255976d819",
   "metadata": {},
   "source": [
    "* __Cálculo de métrica: CONFUSION MATRIX__"
   ]
  },
  {
   "cell_type": "markdown",
   "id": "591dfc1e-594c-469e-a508-0b02e88d2321",
   "metadata": {},
   "source": [
    "Revisaremos también la matriz de confusión para comparar unas clases con otras, lo que podría ayudar a ver si hay algún sesgo hacia una clase específica."
   ]
  },
  {
   "cell_type": "markdown",
   "id": "3055d4ca-c77c-4b28-8ec2-ed3bf2616fad",
   "metadata": {},
   "source": [
    "____¿ Qué es una matriz de confusión y cómo se interpreta?___ \n",
    "una matriz de confusión muestra el número de instancias que se clasificaron correctamente e incorrectamente en cada clase. Para la variable \"survived\" donde las clases pueden ser 0 y 1, la matriz de confusión muestra 4 valores diferentes, 2 para la predicción TN y FP y 2 valores para los actuales o reales: FN y TP.\n",
    "Donde:\n",
    "* TN (True Negative): es el número de instancias de la clase 0 que fueron clasificadas correctamente como 0.\n",
    "* FP (False Positive): es el número de instancias de la clase 0 que fueron incorrectamente clasificadas como 1.\n",
    "* FN (False Negative): es el número de instancias de la clase 1 que fueron incorrectamente clasificadas como 0.\n",
    "* TP (True Positive): es el número de instancias de la clase 1 que fueron clasificadas correctamente como 1."
   ]
  },
  {
   "cell_type": "code",
   "execution_count": 566,
   "id": "bc52b066-dbc8-4603-9c60-9874f9622344",
   "metadata": {},
   "outputs": [],
   "source": [
    "# ahora sí importamos nuestra librería\n",
    "from sklearn import metrics"
   ]
  },
  {
   "cell_type": "code",
   "execution_count": 577,
   "id": "6ed851f2-2936-46fa-a94e-a0a826d1676d",
   "metadata": {},
   "outputs": [],
   "source": [
    "# establecemos nuestra matriz de confusiones con nuestros datos de etiquetas verdaderas y con las predichas\n",
    "conf_matrix = metrics.confusion_matrix(y_test, predicciones)"
   ]
  },
  {
   "cell_type": "code",
   "execution_count": 579,
   "id": "a430ff15-802c-45aa-8347-01abdf3da599",
   "metadata": {},
   "outputs": [
    {
     "data": {
      "image/png": "[encoded data removed]",
      "text/plain": [
       "<Figure size 500x300 with 2 Axes>"
      ]
     },
     "metadata": {},
     "output_type": "display_data"
    }
   ],
   "source": [
    "# graficamos la matriz\n",
    "plt.figure(figsize=(5, 3))\n",
    "sns.heatmap(conf_matrix, annot=True, fmt=\".2f\", cmap=\"Oranges\",\n",
    "            xticklabels=[\"no survived\", \"survived\"],\n",
    "            yticklabels=[\"no survived\", \"survived\"])\n",
    "plt.xlabel(\"predicciones\")\n",
    "plt.ylabel(\"datos reales\")\n",
    "plt.title(\"matriz de confusión\")\n",
    "plt.show()"
   ]
  },
  {
   "cell_type": "markdown",
   "id": "5a57234b-fb74-465b-9288-392bbf37aff8",
   "metadata": {},
   "source": [
    "según nuestra matriz de confusión:\n",
    "* TN = 94, son los casos negativos correctamente identificados.\n",
    "* FP = 18, son los casos negativos incorrectamente identificados como positivos.\n",
    "* FN = 20, son los casos positivos incorrectamente identificados como negativos.\n",
    "* TP = 47, son los casos positivos correctamente identificados."
   ]
  },
  {
   "cell_type": "markdown",
   "id": "63882db6-ee3f-464d-80b2-948a4aeadcfe",
   "metadata": {},
   "source": [
    "Para comprender cómo está funcionando el modelo en la clasificación de la variable \"survived\" e interpretar y analizar mejor el rendimiento del modelo en términos de precisión y recuperación, sería interesante también hacer una interpretación del Puntaje F1 (F1 score)"
   ]
  },
  {
   "cell_type": "markdown",
   "id": "d0a6cad6-377e-4296-8a90-3caa8e0a8700",
   "metadata": {},
   "source": [
    "* __Aplicación del F1 SCORE__"
   ]
  },
  {
   "cell_type": "markdown",
   "id": "640e8bcd-8499-49d9-8a28-9e32366a28b8",
   "metadata": {},
   "source": [
    "El puntaje F1 es la media armónica entre precisión y recuperación, proporcionando un equilibrio entre ambos. "
   ]
  },
  {
   "cell_type": "code",
   "execution_count": 582,
   "id": "bc6958c6-caab-4b94-8e4c-6ac374b981f8",
   "metadata": {},
   "outputs": [],
   "source": [
    "# extraemos los resultados de nuestra matriz de confusión\n",
    "TN = conf_matrix[0, 0]\n",
    "FP = conf_matrix[0, 1]\n",
    "FN = conf_matrix[1, 0]\n",
    "TP = conf_matrix[1, 1]"
   ]
  },
  {
   "cell_type": "code",
   "execution_count": 585,
   "id": "138715cd-37e9-458c-8e42-da1d661ca854",
   "metadata": {},
   "outputs": [],
   "source": [
    "# aplicamos las fórmulas establecidas para obtener la precisión y recuperación\n",
    "precision = TP / (TP + FP) if (TP + FP) > 0 else 0\n",
    "recuperacion = TP / (TP + FN) if (TP + FN) > 0 else 0"
   ]
  },
  {
   "cell_type": "code",
   "execution_count": 586,
   "id": "e3c59f8f-d787-4af4-babe-e7590e54ed68",
   "metadata": {},
   "outputs": [
    {
     "name": "stdout",
     "output_type": "stream",
     "text": [
      "Precisión: 0.72\n",
      "Recuperación: 0.70\n",
      "F1 SCORE: 0.71\n"
     ]
    }
   ],
   "source": [
    "# calculamos el puntaje F1\n",
    "puntaje_f1 = 2 * (precision * recuperacion) / (precision + recuperacion) if (precision + recuperacion) > 0 else 0\n",
    "\n",
    "print(f\"Precisión: {precision:.2f}\")\n",
    "print(f\"Recuperación: {recuperacion:.2f}\")\n",
    "print(f'F1 SCORE: {puntaje_f1:.2f}')"
   ]
  },
  {
   "cell_type": "markdown",
   "id": "81a60fcf-6597-409e-9a03-cfe81fccd910",
   "metadata": {},
   "source": [
    "Con estos resultados obtenidos podemos afirmar que:\n",
    "* ___Precisión: 0.72___, significa que 72% de las veces que el modelo predijo un pasajero sobreviviría, realmente fue así. Quiere decir que el modelo tiene una buena tasa de aciertos cuando predice la clase positiva, pero aún hay un 28% de falsos positivos.\n",
    "* ___Recuperación: 0.72___, significa que el modelo identificó correctamente el 70% de datos de supervivientes. Esto indica que el modelo podría estar perdiendo el 30% de los casos positivos reales, es decir, los falsos negativos.\n",
    "* ___F1 score: 0.71___, significa que existe un equilibrio razonable entre precisión y recuperación, está relativamente cerca del máximo valor de 1.0, lo que indica que el modelo tiene un rendimiento razonable."
   ]
  },
  {
   "cell_type": "code",
   "execution_count": null,
   "id": "8505b2a5-fde8-463b-8d70-d1c08d6e9e79",
   "metadata": {},
   "outputs": [],
   "source": []
  },
  {
   "cell_type": "code",
   "execution_count": null,
   "id": "eb2ddd69-98f8-4426-9736-c99034bcd343",
   "metadata": {},
   "outputs": [],
   "source": []
  },
  {
   "cell_type": "markdown",
   "id": "6501312d-482a-4c2e-a843-389aedc9493f",
   "metadata": {},
   "source": [
    "#### 9) Conclusiones"
   ]
  },
  {
   "cell_type": "markdown",
   "id": "990cf484-f321-4fe4-ac59-6a654f045b27",
   "metadata": {},
   "source": [
    "A pesar que es un dataset con datos bastante sencillos, se podría sugerir también:\n",
    "* Aplicar ingeniería de características para crear nuevas características a partir de las ya existentes y que ayuden a capturar patrones que el modelo actual no está detectando y que puedan mejorar la capacidad predictiva del modelo.\n",
    "* Utilizar técnicas de selección de características para identificar y mantener sólo las características más relevantes, eliminando las que no aportan valor.\n"
   ]
  },
  {
   "cell_type": "code",
   "execution_count": null,
   "id": "b7b0080e-dbe0-44c3-b519-8cc98df1db5e",
   "metadata": {},
   "outputs": [],
   "source": []
  }
 ],
 "metadata": {
  "kernelspec": {
   "display_name": "Python 3 (ipykernel)",
   "language": "python",
   "name": "python3"
  },
  "language_info": {
   "codemirror_mode": {
    "name": "ipython",
    "version": 3
   },
   "file_extension": ".py",
   "mimetype": "text/x-python",
   "name": "python",
   "nbconvert_exporter": "python",
   "pygments_lexer": "ipython3",
   "version": "3.11.7"
  }
 },
 "nbformat": 4,
 "nbformat_minor": 5
}
